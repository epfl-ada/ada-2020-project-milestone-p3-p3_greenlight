{
 "cells": [
  {
   "cell_type": "code",
   "execution_count": 1,
   "metadata": {},
   "outputs": [],
   "source": [
    "import numpy as np\n",
    "import pandas as pd\n",
    "import matplotlib.pyplot as plt\n",
    "import seaborn as sns\n",
    "import networkx as nx\n",
    "\n",
    "%matplotlib inline\n",
    "plt.rcParams.update({'font.size': 14})\n",
    "\n",
    "from statsmodels.stats import diagnostic\n",
    "from scipy import stats\n",
    "import statsmodels.api as sm\n",
    "import statsmodels.formula.api as smf"
   ]
  },
  {
   "cell_type": "code",
   "execution_count": 65,
   "metadata": {},
   "outputs": [],
   "source": [
    "DATA_FOLDER = '../data/'\n",
    "DATA_NAME = 'PisoFirme_AEJPol-20070024_household.dta'\n",
    "\n",
    "data = pd.read_stata(DATA_FOLDER + DATA_NAME)\n",
    "balanced_data_1 = pd.read_csv(DATA_FOLDER + 'P3/matched_data_1.csv')\n",
    "balanced_data_2 = pd.read_csv(DATA_FOLDER + 'P3/matched_data_2.csv')"
   ]
  },
  {
   "cell_type": "code",
   "execution_count": 67,
   "metadata": {},
   "outputs": [],
   "source": [
    "def get_y(data1, data2, outcome):\n",
    "    y = data1[[outcome]]-data2[[outcome]]\n",
    "    return y"
   ]
  },
  {
   "cell_type": "code",
   "execution_count": 91,
   "metadata": {},
   "outputs": [],
   "source": [
    "def get_X(data1, data2, outcome):\n",
    "    data = pd.merge(data1[[outcome]], data2[[outcome]], left_index=True, right_index=True)\n",
    "    return data"
   ]
  },
  {
   "cell_type": "code",
   "execution_count": 97,
   "metadata": {},
   "outputs": [],
   "source": [
    "outcome = 'S_satislife'\n",
    "X = get_X(balanced_data_1, balanced_data_2, outcome)\n",
    "X.to_csv(DATA_FOLDER + 'P3/X_' + outcome + '.csv', index=False)"
   ]
  },
  {
   "cell_type": "code",
   "execution_count": 95,
   "metadata": {},
   "outputs": [
    {
     "data": {
      "text/html": [
       "<div>\n",
       "<style scoped>\n",
       "    .dataframe tbody tr th:only-of-type {\n",
       "        vertical-align: middle;\n",
       "    }\n",
       "\n",
       "    .dataframe tbody tr th {\n",
       "        vertical-align: top;\n",
       "    }\n",
       "\n",
       "    .dataframe thead th {\n",
       "        text-align: right;\n",
       "    }\n",
       "</style>\n",
       "<table border=\"1\" class=\"dataframe\">\n",
       "  <thead>\n",
       "    <tr style=\"text-align: right;\">\n",
       "      <th></th>\n",
       "      <th>S_shcementfloor_x</th>\n",
       "      <th>S_shcementfloor_y</th>\n",
       "    </tr>\n",
       "  </thead>\n",
       "  <tbody>\n",
       "    <tr>\n",
       "      <th>0</th>\n",
       "      <td>1.0</td>\n",
       "      <td>1.0</td>\n",
       "    </tr>\n",
       "    <tr>\n",
       "      <th>1</th>\n",
       "      <td>1.0</td>\n",
       "      <td>0.0</td>\n",
       "    </tr>\n",
       "    <tr>\n",
       "      <th>2</th>\n",
       "      <td>1.0</td>\n",
       "      <td>1.0</td>\n",
       "    </tr>\n",
       "    <tr>\n",
       "      <th>3</th>\n",
       "      <td>1.0</td>\n",
       "      <td>1.0</td>\n",
       "    </tr>\n",
       "    <tr>\n",
       "      <th>4</th>\n",
       "      <td>1.0</td>\n",
       "      <td>1.0</td>\n",
       "    </tr>\n",
       "  </tbody>\n",
       "</table>\n",
       "</div>"
      ],
      "text/plain": [
       "   S_shcementfloor_x  S_shcementfloor_y\n",
       "0                1.0                1.0\n",
       "1                1.0                0.0\n",
       "2                1.0                1.0\n",
       "3                1.0                1.0\n",
       "4                1.0                1.0"
      ]
     },
     "execution_count": 95,
     "metadata": {},
     "output_type": "execute_result"
    }
   ],
   "source": [
    "X.head()"
   ]
  },
  {
   "cell_type": "code",
   "execution_count": 94,
   "metadata": {},
   "outputs": [],
   "source": []
  },
  {
   "cell_type": "markdown",
   "metadata": {},
   "source": [
    "## Outcomes :\n",
    "* S_shcementfloor : Share of rooms with cement floors\n",
    "* S_cementfloorkit : Cement floor in kitchen\n",
    "* S_cementfloordin : Cement floor in dining room\n",
    "* S_cementfloorbat : Cement floor in bathroom\n",
    "* S_cementfloorbed : Cement floor in bedroom\n",
    "\n",
    "- S_satisfloor : Satisfaction with floor quality\n",
    "- S_satishouse : Satisfaction with house quality\n",
    "- S_satislife : Satisfaction with quality of life\n",
    "- S_cesds : Depression scale (CES-D scale)\n",
    "- S_pss : Percieved stress scale"
   ]
  },
  {
   "cell_type": "code",
   "execution_count": null,
   "metadata": {},
   "outputs": [],
   "source": []
  },
  {
   "cell_type": "markdown",
   "metadata": {},
   "source": [
    "## Amplification of Sensitivity Analysis"
   ]
  },
  {
   "cell_type": "code",
   "execution_count": 4,
   "metadata": {},
   "outputs": [],
   "source": [
    "Gamma = 1.17\n",
    "Lambda = np.linspace(1.2, 2.4, 50)\n",
    "Delta = (1-Gamma*Lambda)/(Gamma - Lambda)"
   ]
  },
  {
   "cell_type": "code",
   "execution_count": 21,
   "metadata": {},
   "outputs": [
    {
     "data": {
      "image/png": "[encoded data removed]",
      "text/plain": [
       "<Figure size 432x432 with 1 Axes>"
      ]
     },
     "metadata": {
      "needs_background": "light"
     },
     "output_type": "display_data"
    }
   ],
   "source": [
    "fig = plt.figure(figsize=(6,6))\n",
    "plt.plot(Lambda, Delta)\n",
    "plt.axvline(x=1.17, ls='--', color='tab:blue')\n",
    "plt.axhline(y=1.17, ls='--', color='tab:blue')\n",
    "plt.xlim([1.1, 2.4])\n",
    "plt.ylim([1.1, 2.4])\n",
    "plt.xlabel('$\\Lambda$')\n",
    "plt.ylabel('$\\Delta$')\n",
    "plt.show()"
   ]
  },
  {
   "cell_type": "code",
   "execution_count": null,
   "metadata": {},
   "outputs": [],
   "source": []
  }
 ],
 "metadata": {
  "kernelspec": {
   "display_name": "Python 3",
   "language": "python",
   "name": "python3"
  },
  "language_info": {
   "codemirror_mode": {
    "name": "ipython",
    "version": 3
   },
   "file_extension": ".py",
   "mimetype": "text/x-python",
   "name": "python",
   "nbconvert_exporter": "python",
   "pygments_lexer": "ipython3",
   "version": "3.7.3"
  }
 },
 "nbformat": 4,
 "nbformat_minor": 4
}
