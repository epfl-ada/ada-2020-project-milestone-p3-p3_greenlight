{
 "cells": [
  {
   "cell_type": "markdown",
   "metadata": {},
   "source": [
    "## Housing, Health & Happiness - Creative Extension"
   ]
  },
  {
   "cell_type": "markdown",
   "metadata": {},
   "source": [
    "### I. Importing Libraries and Data"
   ]
  },
  {
   "cell_type": "code",
   "execution_count": 33,
   "metadata": {},
   "outputs": [],
   "source": [
    "### Import libraries\n",
    "\n",
    "import pandas as pd\n",
    "import numpy as np\n",
    "import matplotlib.pyplot as plt\n",
    "%matplotlib inline\n",
    "import math\n",
    "from statsmodels.stats import diagnostic\n",
    "from scipy import stats\n",
    "import statsmodels.api as sm\n",
    "import statsmodels.formula.api as smf\n",
    "import pandas.util.testing as tm\n",
    "import seaborn as sns\n",
    "\n",
    "### Import data\n",
    "\n",
    "DATA_FOLDER = 'Data/'\n",
    "\n",
    "# NaN values are replaced with 0, as described in the paper \n",
    "# SHOULD WE DROP NaN VALUES OR PUT THEM TO 0 ? IT CHANGES THE VALUE FOR THE MEAN !!\n",
    "\n",
    "household_data = pd.read_stata(DATA_FOLDER + 'PisoFirme_AEJPol-20070024_household.dta').fillna(0)\n",
    "individual_data = pd.read_stata(DATA_FOLDER + 'PisoFirme_AEJPol-20070024_individual.dta').fillna(0)"
   ]
  },
  {
   "cell_type": "code",
   "execution_count": 34,
   "metadata": {},
   "outputs": [
    {
     "name": "stdout",
     "output_type": "stream",
     "text": [
      "treatment: 1390\n",
      "control: 1393\n"
     ]
    }
   ],
   "source": [
    "print('treatment:', len(household_data[household_data['dpisofirme'] == 1]))\n",
    "print('control:', len(household_data[household_data['dpisofirme'] == 0]))"
   ]
  },
  {
   "cell_type": "code",
   "execution_count": 35,
   "metadata": {},
   "outputs": [
    {
     "data": {
      "text/plain": [
       "0.4918564558029175"
      ]
     },
     "execution_count": 35,
     "metadata": {},
     "output_type": "execute_result"
    }
   ],
   "source": [
    "np.mean(household_data['C_blocksdirtfloor'][household_data['dpisofirme'] == 1])"
   ]
  },
  {
   "cell_type": "code",
   "execution_count": 36,
   "metadata": {},
   "outputs": [
    {
     "data": {
      "text/plain": [
       "array([False])"
      ]
     },
     "execution_count": 36,
     "metadata": {},
     "output_type": "execute_result"
    }
   ],
   "source": [
    "household_data['C_blocksdirtfloor'].isna().unique()"
   ]
  },
  {
   "cell_type": "markdown",
   "metadata": {},
   "source": [
    "### II. Is the original matching truly balanced ? \n",
    "\n",
    "> In the paper 'Housing, Health, and Happiness', the treatment and control group are matched according to the variables C_blockdirtfloor, C_HHdirtfloor, C_child05 and C_households. The paper claims that these 4 variables are balances, according to Table 2 where the means for treatment and control are computed, along with standard errors and the mean difference. Let us verify with statistical tests that this is indeed the case.  "
   ]
  },
  {
   "cell_type": "code",
   "execution_count": 37,
   "metadata": {},
   "outputs": [
    {
     "data": {
      "image/png": "[encoded data removed]",
      "text/plain": [
       "<Figure size 864x720 with 4 Axes>"
      ]
     },
     "metadata": {
      "needs_background": "light"
     },
     "output_type": "display_data"
    }
   ],
   "source": [
    "fig, axes = plt.subplots(2, 2, figsize=(12, 10), sharey=True)\n",
    "fig.subplots_adjust(hspace=0.3)\n",
    "\n",
    "sns.boxplot(ax=axes[0,0], x=household_data['C_blocksdirtfloor'], y=household_data['dpisofirme'], showmeans=True, orient='h');\n",
    "axes[0,0].set_title('Proportion blocks of houses with 1+ houses that has dirt floors ')\n",
    "\n",
    "sns.boxplot(ax=axes[0,1], x=household_data['C_HHdirtfloor'], y=household_data['dpisofirme'], showmeans=True, orient='h');\n",
    "axes[0,1].set_title('Proportion of households with dirt floors');\n",
    "\n",
    "sns.boxplot(ax=axes[1,0], x=household_data['C_child05'], y=household_data['dpisofirme'], showmeans=True, orient='h');\n",
    "axes[1,0].set_title('Average number of children between 0-5 yrs');\n",
    "\n",
    "sns.boxplot(ax=axes[1,1], x=household_data['C_households'], y=household_data['dpisofirme'], showmeans=True, orient='h');\n",
    "axes[1,1].set_title('Number of households ');"
   ]
  },
  {
   "cell_type": "code",
   "execution_count": 38,
   "metadata": {},
   "outputs": [
    {
     "data": {
      "text/html": [
       "<div>\n",
       "<style scoped>\n",
       "    .dataframe tbody tr th:only-of-type {\n",
       "        vertical-align: middle;\n",
       "    }\n",
       "\n",
       "    .dataframe tbody tr th {\n",
       "        vertical-align: top;\n",
       "    }\n",
       "\n",
       "    .dataframe thead th {\n",
       "        text-align: right;\n",
       "    }\n",
       "</style>\n",
       "<table border=\"1\" class=\"dataframe\">\n",
       "  <thead>\n",
       "    <tr style=\"text-align: right;\">\n",
       "      <th></th>\n",
       "      <th>index</th>\n",
       "      <th>C_blocksdirtfloor</th>\n",
       "      <th>C_HHdirtfloor</th>\n",
       "      <th>C_child05</th>\n",
       "      <th>C_households</th>\n",
       "      <th>C_people</th>\n",
       "      <th>C_rooms</th>\n",
       "      <th>C_HHpersons</th>\n",
       "      <th>C_waterland</th>\n",
       "      <th>C_waterhouse</th>\n",
       "      <th>...</th>\n",
       "      <th>S_cesds</th>\n",
       "      <th>S_pss</th>\n",
       "      <th>S_instcement</th>\n",
       "      <th>S_instsanita</th>\n",
       "      <th>S_restsanita</th>\n",
       "      <th>S_constceili</th>\n",
       "      <th>S_restowalls</th>\n",
       "      <th>S_improveany</th>\n",
       "      <th>S_logrent</th>\n",
       "      <th>S_logsell</th>\n",
       "    </tr>\n",
       "  </thead>\n",
       "  <tbody>\n",
       "    <tr>\n",
       "      <th>0</th>\n",
       "      <td>T-test</td>\n",
       "      <td>9.23114e-59</td>\n",
       "      <td>2.61327e-15</td>\n",
       "      <td>4.2026e-63</td>\n",
       "      <td>3.09599e-07</td>\n",
       "      <td>7.75822e-09</td>\n",
       "      <td>4.14314e-24</td>\n",
       "      <td>1.5685e-69</td>\n",
       "      <td>2.58534e-09</td>\n",
       "      <td>0.42942</td>\n",
       "      <td>...</td>\n",
       "      <td>5.28233e-11</td>\n",
       "      <td>5.08303e-11</td>\n",
       "      <td>4.18925e-116</td>\n",
       "      <td>0.121081</td>\n",
       "      <td>0.86271</td>\n",
       "      <td>0.0479576</td>\n",
       "      <td>0.305995</td>\n",
       "      <td>0.00924342</td>\n",
       "      <td>0.0132717</td>\n",
       "      <td>0.0180526</td>\n",
       "    </tr>\n",
       "    <tr>\n",
       "      <th>1</th>\n",
       "      <td>Identical Mean</td>\n",
       "      <td>False</td>\n",
       "      <td>False</td>\n",
       "      <td>False</td>\n",
       "      <td>False</td>\n",
       "      <td>False</td>\n",
       "      <td>False</td>\n",
       "      <td>False</td>\n",
       "      <td>False</td>\n",
       "      <td>True</td>\n",
       "      <td>...</td>\n",
       "      <td>False</td>\n",
       "      <td>False</td>\n",
       "      <td>False</td>\n",
       "      <td>True</td>\n",
       "      <td>True</td>\n",
       "      <td>False</td>\n",
       "      <td>True</td>\n",
       "      <td>False</td>\n",
       "      <td>False</td>\n",
       "      <td>False</td>\n",
       "    </tr>\n",
       "  </tbody>\n",
       "</table>\n",
       "<p>2 rows × 73 columns</p>\n",
       "</div>"
      ],
      "text/plain": [
       "            index C_blocksdirtfloor C_HHdirtfloor   C_child05 C_households  \\\n",
       "0          T-test       9.23114e-59   2.61327e-15  4.2026e-63  3.09599e-07   \n",
       "1  Identical Mean             False         False       False        False   \n",
       "\n",
       "      C_people      C_rooms C_HHpersons  C_waterland C_waterhouse  ...  \\\n",
       "0  7.75822e-09  4.14314e-24  1.5685e-69  2.58534e-09      0.42942  ...   \n",
       "1        False        False       False        False         True  ...   \n",
       "\n",
       "       S_cesds        S_pss  S_instcement S_instsanita S_restsanita  \\\n",
       "0  5.28233e-11  5.08303e-11  4.18925e-116     0.121081      0.86271   \n",
       "1        False        False         False         True         True   \n",
       "\n",
       "  S_constceili S_restowalls S_improveany  S_logrent  S_logsell  \n",
       "0    0.0479576     0.305995   0.00924342  0.0132717  0.0180526  \n",
       "1        False         True        False      False      False  \n",
       "\n",
       "[2 rows x 73 columns]"
      ]
     },
     "execution_count": 38,
     "metadata": {},
     "output_type": "execute_result"
    }
   ],
   "source": [
    "import warnings\n",
    "warnings.filterwarnings(\"ignore\")\n",
    "from scipy.stats import levene\n",
    "from scipy.stats import ttest_ind\n",
    "\n",
    "# Levene test verifies the null hypothesis that all input samples are from populations with equal variances.\n",
    "\n",
    "# The t-test verifies the null hypothesis that 2 independent samples have identical average (expected) values. \n",
    "# This test assumes that the populations have identical variances by default, but we define as False if the \n",
    "# variances are not equal (known as Welch's t-test). \n",
    "\n",
    "df_mean = pd.DataFrame(columns = household_data.columns).reset_index()\n",
    "df_mean['index'] = ['T-test', 'Identical Mean']\n",
    "\n",
    "for col in household_data:\n",
    "    \n",
    "    a = household_data[col][household_data['dpisofirme'] == 1]\n",
    "    b = household_data[col][household_data['dpisofirme'] == 0]\n",
    "    ttest = ttest_ind(a, b, equal_var = False, nan_policy = 'omit')\n",
    "    if (ttest.pvalue < 0.05):\n",
    "        identical_mean = False\n",
    "    else:\n",
    "        identical_mean = True\n",
    "        \n",
    "    df_mean[col] = pd.Series([ttest.pvalue, identical_mean])\n",
    "    \n",
    "df_mean = df_mean.drop(df_mean.columns[[1, 2, 3, 4, 5, 6]], axis = 1)\n",
    "df_mean"
   ]
  },
  {
   "cell_type": "markdown",
   "metadata": {},
   "source": [
    "> It appears that the mean values for 3 of the 4 variables used for the matching are not balanced, as the statistical test yields a p-value below the threshold of 0.05, indicating that we must reject the null hypothesis of equal averages."
   ]
  },
  {
   "cell_type": "markdown",
   "metadata": {},
   "source": [
    "### III. Benchmarking\n",
    "> Omitted variable bias can affect treatment effect estimates obtained from observational data due to the lack of random assignment to treatment groups. Sensitivity analyses adjust these estimates to quantify the impact of potential omitted variables.\n",
    "> As a first step of sensitivity analysis, one can use benchmarking: the use of data to establish reference points for speculation about omitted confounders."
   ]
  },
  {
   "cell_type": "code",
   "execution_count": 54,
   "metadata": {},
   "outputs": [],
   "source": [
    "### Creating a Dataframe for the data\n",
    "\n",
    "R2_df = pd.DataFrame(columns = ['Total Model 3 R2', 'S_HHpeople', 'S_headage','S_spouseage','S_headeduc',\\\n",
    "                                'S_spouseeduc', 'S_dem1','S_dem2','S_dem3','S_dem4','S_dem5','S_dem6','S_dem7','S_dem8',\\\n",
    "                                'C(S_waterland)','C(S_waterhouse)','C(S_electricity)','C(S_hasanimals)','C(S_animalsinside)',\\\n",
    "                                'C(S_garbage)', 'S_washhands', 'S_cashtransfers', 'C(S_milkprogram)', 'C(S_foodprogram)',\\\n",
    "                                'C(S_seguropopular)']).reset_index()\n",
    "R2_df['index'] = ['Share of rooms with cement floors', 'Cement floor in kitchen',\\\n",
    "                  'Cement floor in dining room', 'Cement floor in bathroom', 'Cement floor in bedroom']"
   ]
  },
  {
   "cell_type": "code",
   "execution_count": 55,
   "metadata": {},
   "outputs": [],
   "source": [
    "def create_mod_str(x,z):\n",
    "    output_str = ''\n",
    "    for i in range(0,len(x)):\n",
    "        if((i != z) and (i != len(x)-1)):\n",
    "            output_str = output_str + x[i] + ' + '\n",
    "        if(i == len(x)-1):\n",
    "            output_str = output_str + x[i]\n",
    "    return output_str"
   ]
  },
  {
   "cell_type": "code",
   "execution_count": 56,
   "metadata": {},
   "outputs": [
    {
     "data": {
      "text/html": [
       "<div>\n",
       "<style scoped>\n",
       "    .dataframe tbody tr th:only-of-type {\n",
       "        vertical-align: middle;\n",
       "    }\n",
       "\n",
       "    .dataframe tbody tr th {\n",
       "        vertical-align: top;\n",
       "    }\n",
       "\n",
       "    .dataframe thead th {\n",
       "        text-align: right;\n",
       "    }\n",
       "</style>\n",
       "<table border=\"1\" class=\"dataframe\">\n",
       "  <thead>\n",
       "    <tr style=\"text-align: right;\">\n",
       "      <th></th>\n",
       "      <th>index</th>\n",
       "      <th>Total Model 3 R2</th>\n",
       "      <th>S_HHpeople</th>\n",
       "      <th>S_headage</th>\n",
       "      <th>S_spouseage</th>\n",
       "      <th>S_headeduc</th>\n",
       "      <th>S_spouseeduc</th>\n",
       "      <th>S_dem1</th>\n",
       "      <th>S_dem2</th>\n",
       "      <th>S_dem3</th>\n",
       "      <th>...</th>\n",
       "      <th>C(S_waterhouse)</th>\n",
       "      <th>C(S_electricity)</th>\n",
       "      <th>C(S_hasanimals)</th>\n",
       "      <th>C(S_animalsinside)</th>\n",
       "      <th>C(S_garbage)</th>\n",
       "      <th>S_washhands</th>\n",
       "      <th>S_cashtransfers</th>\n",
       "      <th>C(S_milkprogram)</th>\n",
       "      <th>C(S_foodprogram)</th>\n",
       "      <th>C(S_seguropopular)</th>\n",
       "    </tr>\n",
       "  </thead>\n",
       "  <tbody>\n",
       "    <tr>\n",
       "      <th>0</th>\n",
       "      <td>Share of rooms with cement floors</td>\n",
       "      <td>0.191804</td>\n",
       "      <td>0.108699</td>\n",
       "      <td>0.419212</td>\n",
       "      <td>0.137098</td>\n",
       "      <td>0.917477</td>\n",
       "      <td>0.183506</td>\n",
       "      <td>0.0474954</td>\n",
       "      <td>0.0105238</td>\n",
       "      <td>0.0197662</td>\n",
       "      <td>...</td>\n",
       "      <td>3.02891</td>\n",
       "      <td>0.167864</td>\n",
       "      <td>0.000477456</td>\n",
       "      <td>0.277508</td>\n",
       "      <td>0.015981</td>\n",
       "      <td>0.30234</td>\n",
       "      <td>0.129037</td>\n",
       "      <td>0.0612603</td>\n",
       "      <td>0.0209146</td>\n",
       "      <td>0</td>\n",
       "    </tr>\n",
       "    <tr>\n",
       "      <th>1</th>\n",
       "      <td>Cement floor in kitchen</td>\n",
       "      <td>0.15896</td>\n",
       "      <td>0.0818908</td>\n",
       "      <td>0.454974</td>\n",
       "      <td>0.149406</td>\n",
       "      <td>0.849075</td>\n",
       "      <td>0.0219994</td>\n",
       "      <td>0.0378869</td>\n",
       "      <td>0.00841284</td>\n",
       "      <td>0.0161462</td>\n",
       "      <td>...</td>\n",
       "      <td>1.60759</td>\n",
       "      <td>0.0980374</td>\n",
       "      <td>0.0612265</td>\n",
       "      <td>0.249772</td>\n",
       "      <td>0.0349201</td>\n",
       "      <td>0.498085</td>\n",
       "      <td>0.294535</td>\n",
       "      <td>0.00111045</td>\n",
       "      <td>0.0115447</td>\n",
       "      <td>0</td>\n",
       "    </tr>\n",
       "    <tr>\n",
       "      <th>2</th>\n",
       "      <td>Cement floor in dining room</td>\n",
       "      <td>0.124717</td>\n",
       "      <td>0.0642967</td>\n",
       "      <td>0.551467</td>\n",
       "      <td>0.224814</td>\n",
       "      <td>0.86995</td>\n",
       "      <td>0.0126063</td>\n",
       "      <td>0.0311533</td>\n",
       "      <td>0.0143453</td>\n",
       "      <td>0.0243638</td>\n",
       "      <td>...</td>\n",
       "      <td>2.08056</td>\n",
       "      <td>0.0682239</td>\n",
       "      <td>0.0845738</td>\n",
       "      <td>0.0438244</td>\n",
       "      <td>0.0411622</td>\n",
       "      <td>0.0811303</td>\n",
       "      <td>0.195438</td>\n",
       "      <td>0.00721129</td>\n",
       "      <td>0.0602856</td>\n",
       "      <td>0</td>\n",
       "    </tr>\n",
       "    <tr>\n",
       "      <th>3</th>\n",
       "      <td>Cement floor in bathroom</td>\n",
       "      <td>0.103607</td>\n",
       "      <td>0.00902235</td>\n",
       "      <td>0.15451</td>\n",
       "      <td>0.00359419</td>\n",
       "      <td>0.310289</td>\n",
       "      <td>0.508101</td>\n",
       "      <td>0.0384304</td>\n",
       "      <td>0.0125776</td>\n",
       "      <td>0.0108801</td>\n",
       "      <td>...</td>\n",
       "      <td>2.4141</td>\n",
       "      <td>0.297279</td>\n",
       "      <td>0.0993786</td>\n",
       "      <td>0.094182</td>\n",
       "      <td>1.05667</td>\n",
       "      <td>0.327606</td>\n",
       "      <td>0.00981909</td>\n",
       "      <td>0.133856</td>\n",
       "      <td>0.0940037</td>\n",
       "      <td>0</td>\n",
       "    </tr>\n",
       "    <tr>\n",
       "      <th>4</th>\n",
       "      <td>Cement floor in bedroom</td>\n",
       "      <td>0.136558</td>\n",
       "      <td>1.08402</td>\n",
       "      <td>0.0202074</td>\n",
       "      <td>0.219025</td>\n",
       "      <td>0.593483</td>\n",
       "      <td>0.0440848</td>\n",
       "      <td>0.00717451</td>\n",
       "      <td>0.00230263</td>\n",
       "      <td>0.00884543</td>\n",
       "      <td>...</td>\n",
       "      <td>0.829847</td>\n",
       "      <td>0.121698</td>\n",
       "      <td>0.00233634</td>\n",
       "      <td>0.192762</td>\n",
       "      <td>0.0039966</td>\n",
       "      <td>0.0842349</td>\n",
       "      <td>0.000204619</td>\n",
       "      <td>0.0437236</td>\n",
       "      <td>0.00496382</td>\n",
       "      <td>0</td>\n",
       "    </tr>\n",
       "  </tbody>\n",
       "</table>\n",
       "<p>5 rows × 26 columns</p>\n",
       "</div>"
      ],
      "text/plain": [
       "                               index Total Model 3 R2  S_HHpeople  S_headage  \\\n",
       "0  Share of rooms with cement floors         0.191804    0.108699   0.419212   \n",
       "1            Cement floor in kitchen          0.15896   0.0818908   0.454974   \n",
       "2        Cement floor in dining room         0.124717   0.0642967   0.551467   \n",
       "3           Cement floor in bathroom         0.103607  0.00902235    0.15451   \n",
       "4            Cement floor in bedroom         0.136558     1.08402  0.0202074   \n",
       "\n",
       "  S_spouseage S_headeduc S_spouseeduc      S_dem1      S_dem2      S_dem3  \\\n",
       "0    0.137098   0.917477     0.183506   0.0474954   0.0105238   0.0197662   \n",
       "1    0.149406   0.849075    0.0219994   0.0378869  0.00841284   0.0161462   \n",
       "2    0.224814    0.86995    0.0126063   0.0311533   0.0143453   0.0243638   \n",
       "3  0.00359419   0.310289     0.508101   0.0384304   0.0125776   0.0108801   \n",
       "4    0.219025   0.593483    0.0440848  0.00717451  0.00230263  0.00884543   \n",
       "\n",
       "   ... C(S_waterhouse) C(S_electricity) C(S_hasanimals) C(S_animalsinside)  \\\n",
       "0  ...         3.02891         0.167864     0.000477456           0.277508   \n",
       "1  ...         1.60759        0.0980374       0.0612265           0.249772   \n",
       "2  ...         2.08056        0.0682239       0.0845738          0.0438244   \n",
       "3  ...          2.4141         0.297279       0.0993786           0.094182   \n",
       "4  ...        0.829847         0.121698      0.00233634           0.192762   \n",
       "\n",
       "  C(S_garbage) S_washhands S_cashtransfers C(S_milkprogram) C(S_foodprogram)  \\\n",
       "0     0.015981     0.30234        0.129037        0.0612603        0.0209146   \n",
       "1    0.0349201    0.498085        0.294535       0.00111045        0.0115447   \n",
       "2    0.0411622   0.0811303        0.195438       0.00721129        0.0602856   \n",
       "3      1.05667    0.327606      0.00981909         0.133856        0.0940037   \n",
       "4    0.0039966   0.0842349     0.000204619        0.0437236       0.00496382   \n",
       "\n",
       "  C(S_seguropopular)  \n",
       "0                  0  \n",
       "1                  0  \n",
       "2                  0  \n",
       "3                  0  \n",
       "4                  0  \n",
       "\n",
       "[5 rows x 26 columns]"
      ]
     },
     "execution_count": 56,
     "metadata": {},
     "output_type": "execute_result"
    }
   ],
   "source": [
    "### Omitted variable bias \n",
    "\n",
    "# We begin by looking at the effect of regressors on R^2. We can look at each variable of the models and see \n",
    "# the change incurred in R^2 when the regressors are not included in the model. This enables a classification \n",
    "# of the most predictive regressors in terms of R^2. Indeed, the difference in R^2 corresponds to the bias \n",
    "# that would have been incurred by omitting said variable in the model. \n",
    "\n",
    "# Looking at Model 3 for Table 4 of the paper\n",
    "mod_variables = ['S_shcementfloor', 'S_cementfloorkit', 'S_cementfloordin', 'S_cementfloorbat', 'S_cementfloorbed']\n",
    "mod_regressors = ['S_HHpeople', 'S_headage','S_spouseage','S_headeduc',\\\n",
    "                  'S_spouseeduc', 'S_dem1','S_dem2','S_dem3','S_dem4','S_dem5','S_dem6','S_dem7','S_dem8',\\\n",
    "                  'C(S_waterland)','C(S_waterhouse)','C(S_electricity)','C(S_hasanimals)','C(S_animalsinside)',\\\n",
    "                  'C(S_garbage)', 'S_washhands', 'S_cashtransfers', 'C(S_milkprogram)', 'C(S_foodprogram)',\\\n",
    "                  'C(S_seguropopular)']\n",
    "model3 = 'C(dpisofirme) + S_HHpeople + S_headage + S_spouseage + \\\n",
    "                     S_headeduc + S_spouseeduc + S_dem1 + S_dem2 + S_dem3 + S_dem4 + S_dem5 + S_dem6 + S_dem7 \\\n",
    "                     + S_dem8 + C(S_waterland) + C(S_waterhouse) + C(S_electricity) + C(S_hasanimals) + \\\n",
    "                     C(S_animalsinside) + C(S_garbage) + S_washhands + S_cashtransfers + C(S_milkprogram) +\\\n",
    "                     C(S_foodprogram) + C(S_seguropopular)'\n",
    "\n",
    "for i in range(0,5):\n",
    "    \n",
    "    # Declaring Model\n",
    "    mod = smf.ols(formula = mod_variables[i] + ' ~ ' + model3, data = household_data)\n",
    "\n",
    "    # Fitting Model\n",
    "    np.random.seed(2)\n",
    "    res = mod.fit(cov_type = 'cluster', cov_kwds={'groups': household_data['idcluster']})\n",
    "    R2 = res.rsquared\n",
    "    R2_df['Total Model 3 R2'].iloc[i] = R2\n",
    "    \n",
    "    for j in range(len(mod_regressors)):\n",
    "    \n",
    "        # Declaring the Model\n",
    "        mod = smf.ols(formula = mod_variables[i] + ' ~ ' + 'C(dpisofirme) + '+ create_mod_str(mod_regressors,j),\\\n",
    "                      data = household_data)\n",
    "\n",
    "        # Fitting Model\n",
    "        np.random.seed(2)\n",
    "        res = mod.fit(cov_type = 'cluster', cov_kwds={'groups': household_data['idcluster']})\n",
    "        R2 = res.rsquared\n",
    "        R2_df[mod_regressors[j]].iloc[i] = 100*((1-R2)-(1-R2_df['Total Model 3 R2'].iloc[i]))/(1-R2_df['Total Model 3 R2'].iloc[i])\n",
    "\n",
    "R2_df"
   ]
  },
  {
   "cell_type": "code",
   "execution_count": 73,
   "metadata": {},
   "outputs": [
    {
     "data": {
      "application/vnd.plotly.v1+json": {
       "config": {
        "plotlyServerURL": "https://plot.ly"
       },
       "data": [
        {
         "name": "Share of rooms with cement floors",
         "type": "bar",
         "x": [
          "index",
          "S_HHpeople",
          "S_headage",
          "S_spouseage",
          "S_headeduc",
          "S_spouseeduc",
          "S_dem1",
          "S_dem2",
          "S_dem3",
          "S_dem4",
          "S_dem5",
          "S_dem6",
          "S_dem7",
          "S_dem8",
          "C(S_waterland)",
          "C(S_waterhouse)",
          "C(S_electricity)",
          "C(S_hasanimals)",
          "C(S_animalsinside)",
          "C(S_garbage)",
          "S_washhands",
          "S_cashtransfers",
          "C(S_milkprogram)",
          "C(S_foodprogram)",
          "C(S_seguropopular)"
         ],
         "y": [
          "Share of rooms with cement floors",
          0.10869903087472199,
          0.41921170147425774,
          0.13709760336766377,
          0.917476877756811,
          0.18350644721261228,
          0.047495363286727266,
          0.010523792309852132,
          0.0197662187810823,
          0.06646994132439871,
          0.04497682749860812,
          0.009599348524958981,
          0.0005610340805797143,
          0.0022241667281015357,
          0.28186772665978815,
          3.0289077091869525,
          0.16786369761579675,
          0.00047745553004644565,
          0.2775076843738697,
          0.015980951432434193,
          0.3023400383650379,
          0.1290370919389737,
          0.06126032862962061,
          0.02091456938758035,
          0
         ]
        },
        {
         "name": "Cement floor in kitchen",
         "type": "bar",
         "x": [
          "index",
          "S_HHpeople",
          "S_headage",
          "S_spouseage",
          "S_headeduc",
          "S_spouseeduc",
          "S_dem1",
          "S_dem2",
          "S_dem3",
          "S_dem4",
          "S_dem5",
          "S_dem6",
          "S_dem7",
          "S_dem8",
          "C(S_waterland)",
          "C(S_waterhouse)",
          "C(S_electricity)",
          "C(S_hasanimals)",
          "C(S_animalsinside)",
          "C(S_garbage)",
          "S_washhands",
          "S_cashtransfers",
          "C(S_milkprogram)",
          "C(S_foodprogram)",
          "C(S_seguropopular)"
         ],
         "y": [
          "Cement floor in kitchen",
          0.0818907706127092,
          0.4549743876196124,
          0.14940641767824964,
          0.8490747085984602,
          0.021999378600679763,
          0.037886855252478334,
          0.008412837688067517,
          0.016146185909327496,
          0.051611151477306105,
          0.04047321622324507,
          0.009983211890294776,
          0.0016854243208081772,
          0.006562136415677235,
          0.14145302537668314,
          1.6075891143815937,
          0.0980373565692752,
          0.06122651177865439,
          0.24977215350039791,
          0.034920148806666204,
          0.4980848644009581,
          0.2945345521141451,
          0.001110448270198043,
          0.011544738285845428,
          0
         ]
        },
        {
         "name": "Cement floor in dining room",
         "type": "bar",
         "x": [
          "index",
          "S_HHpeople",
          "S_headage",
          "S_spouseage",
          "S_headeduc",
          "S_spouseeduc",
          "S_dem1",
          "S_dem2",
          "S_dem3",
          "S_dem4",
          "S_dem5",
          "S_dem6",
          "S_dem7",
          "S_dem8",
          "C(S_waterland)",
          "C(S_waterhouse)",
          "C(S_electricity)",
          "C(S_hasanimals)",
          "C(S_animalsinside)",
          "C(S_garbage)",
          "S_washhands",
          "S_cashtransfers",
          "C(S_milkprogram)",
          "C(S_foodprogram)",
          "C(S_seguropopular)"
         ],
         "y": [
          "Cement floor in dining room",
          0.0642966861361694,
          0.5514672066826648,
          0.22481422495124245,
          0.8699496650543144,
          0.012606333904209219,
          0.03115330252657852,
          0.014345328623243822,
          0.024363809442563656,
          0.07322567334393112,
          0.030557718433087327,
          0.013934157500128556,
          0.0067414354624909835,
          0.021473636877160262,
          0.017217206529506063,
          2.0805558516841742,
          0.06822385493701515,
          0.08457383605925846,
          0.0438243573795162,
          0.041162183027627086,
          0.08113027618001915,
          0.19543782840674537,
          0.007211294136248613,
          0.06028561289935189,
          0
         ]
        },
        {
         "name": "Cement floor in bathroom",
         "type": "bar",
         "x": [
          "index",
          "S_HHpeople",
          "S_headage",
          "S_spouseage",
          "S_headeduc",
          "S_spouseeduc",
          "S_dem1",
          "S_dem2",
          "S_dem3",
          "S_dem4",
          "S_dem5",
          "S_dem6",
          "S_dem7",
          "S_dem8",
          "C(S_waterland)",
          "C(S_waterhouse)",
          "C(S_electricity)",
          "C(S_hasanimals)",
          "C(S_animalsinside)",
          "C(S_garbage)",
          "S_washhands",
          "S_cashtransfers",
          "C(S_milkprogram)",
          "C(S_foodprogram)",
          "C(S_seguropopular)"
         ],
         "y": [
          "Cement floor in bathroom",
          0.009022352781773919,
          0.15451005155740716,
          0.0035941877977051007,
          0.31028897789829046,
          0.5081008182138289,
          0.03843043871767814,
          0.012577554393969338,
          0.010880096977143847,
          0.023047651775481046,
          0.028218046568661607,
          0.006314204879386985,
          1.2851747641764612e-05,
          4.9478410946233114e-05,
          0.4606650786412542,
          2.414097147580332,
          0.2972794880166892,
          0.09937863230032264,
          0.09418200664572414,
          1.0566735828360179,
          0.32760563901657797,
          0.009819085297598625,
          0.13385618331137822,
          0.09400368100193758,
          0
         ]
        },
        {
         "name": "Cement floor in bedroom",
         "type": "bar",
         "x": [
          "index",
          "S_HHpeople",
          "S_headage",
          "S_spouseage",
          "S_headeduc",
          "S_spouseeduc",
          "S_dem1",
          "S_dem2",
          "S_dem3",
          "S_dem4",
          "S_dem5",
          "S_dem6",
          "S_dem7",
          "S_dem8",
          "C(S_waterland)",
          "C(S_waterhouse)",
          "C(S_electricity)",
          "C(S_hasanimals)",
          "C(S_animalsinside)",
          "C(S_garbage)",
          "S_washhands",
          "S_cashtransfers",
          "C(S_milkprogram)",
          "C(S_foodprogram)",
          "C(S_seguropopular)"
         ],
         "y": [
          "Cement floor in bedroom",
          1.0840168683486966,
          0.020207432878907833,
          0.21902468265809388,
          0.5934831472378788,
          0.044084772311630174,
          0.007174511044832402,
          0.002302631831762251,
          0.008845433192954014,
          0.04953035448118992,
          0.00840251447670943,
          0.0005506591196981136,
          0.0020076446282845527,
          0.010535860139309324,
          0.21845139860954557,
          0.8298466007733678,
          0.12169785218037808,
          0.0023363368325557718,
          0.1927618273868389,
          0.003996596435572719,
          0.08423494001041751,
          0.0002046185735803686,
          0.04372355954473465,
          0.004963817625600698,
          0
         ]
        }
       ],
       "layout": {
        "autosize": true,
        "height": 700,
        "template": {
         "data": {
          "bar": [
           {
            "error_x": {
             "color": "#2a3f5f"
            },
            "error_y": {
             "color": "#2a3f5f"
            },
            "marker": {
             "line": {
              "color": "#E5ECF6",
              "width": 0.5
             }
            },
            "type": "bar"
           }
          ],
          "barpolar": [
           {
            "marker": {
             "line": {
              "color": "#E5ECF6",
              "width": 0.5
             }
            },
            "type": "barpolar"
           }
          ],
          "carpet": [
           {
            "aaxis": {
             "endlinecolor": "#2a3f5f",
             "gridcolor": "white",
             "linecolor": "white",
             "minorgridcolor": "white",
             "startlinecolor": "#2a3f5f"
            },
            "baxis": {
             "endlinecolor": "#2a3f5f",
             "gridcolor": "white",
             "linecolor": "white",
             "minorgridcolor": "white",
             "startlinecolor": "#2a3f5f"
            },
            "type": "carpet"
           }
          ],
          "choropleth": [
           {
            "colorbar": {
             "outlinewidth": 0,
             "ticks": ""
            },
            "type": "choropleth"
           }
          ],
          "contour": [
           {
            "colorbar": {
             "outlinewidth": 0,
             "ticks": ""
            },
            "colorscale": [
             [
              0,
              "#0d0887"
             ],
             [
              0.1111111111111111,
              "#46039f"
             ],
             [
              0.2222222222222222,
              "#7201a8"
             ],
             [
              0.3333333333333333,
              "#9c179e"
             ],
             [
              0.4444444444444444,
              "#bd3786"
             ],
             [
              0.5555555555555556,
              "#d8576b"
             ],
             [
              0.6666666666666666,
              "#ed7953"
             ],
             [
              0.7777777777777778,
              "#fb9f3a"
             ],
             [
              0.8888888888888888,
              "#fdca26"
             ],
             [
              1,
              "#f0f921"
             ]
            ],
            "type": "contour"
           }
          ],
          "contourcarpet": [
           {
            "colorbar": {
             "outlinewidth": 0,
             "ticks": ""
            },
            "type": "contourcarpet"
           }
          ],
          "heatmap": [
           {
            "colorbar": {
             "outlinewidth": 0,
             "ticks": ""
            },
            "colorscale": [
             [
              0,
              "#0d0887"
             ],
             [
              0.1111111111111111,
              "#46039f"
             ],
             [
              0.2222222222222222,
              "#7201a8"
             ],
             [
              0.3333333333333333,
              "#9c179e"
             ],
             [
              0.4444444444444444,
              "#bd3786"
             ],
             [
              0.5555555555555556,
              "#d8576b"
             ],
             [
              0.6666666666666666,
              "#ed7953"
             ],
             [
              0.7777777777777778,
              "#fb9f3a"
             ],
             [
              0.8888888888888888,
              "#fdca26"
             ],
             [
              1,
              "#f0f921"
             ]
            ],
            "type": "heatmap"
           }
          ],
          "heatmapgl": [
           {
            "colorbar": {
             "outlinewidth": 0,
             "ticks": ""
            },
            "colorscale": [
             [
              0,
              "#0d0887"
             ],
             [
              0.1111111111111111,
              "#46039f"
             ],
             [
              0.2222222222222222,
              "#7201a8"
             ],
             [
              0.3333333333333333,
              "#9c179e"
             ],
             [
              0.4444444444444444,
              "#bd3786"
             ],
             [
              0.5555555555555556,
              "#d8576b"
             ],
             [
              0.6666666666666666,
              "#ed7953"
             ],
             [
              0.7777777777777778,
              "#fb9f3a"
             ],
             [
              0.8888888888888888,
              "#fdca26"
             ],
             [
              1,
              "#f0f921"
             ]
            ],
            "type": "heatmapgl"
           }
          ],
          "histogram": [
           {
            "marker": {
             "colorbar": {
              "outlinewidth": 0,
              "ticks": ""
             }
            },
            "type": "histogram"
           }
          ],
          "histogram2d": [
           {
            "colorbar": {
             "outlinewidth": 0,
             "ticks": ""
            },
            "colorscale": [
             [
              0,
              "#0d0887"
             ],
             [
              0.1111111111111111,
              "#46039f"
             ],
             [
              0.2222222222222222,
              "#7201a8"
             ],
             [
              0.3333333333333333,
              "#9c179e"
             ],
             [
              0.4444444444444444,
              "#bd3786"
             ],
             [
              0.5555555555555556,
              "#d8576b"
             ],
             [
              0.6666666666666666,
              "#ed7953"
             ],
             [
              0.7777777777777778,
              "#fb9f3a"
             ],
             [
              0.8888888888888888,
              "#fdca26"
             ],
             [
              1,
              "#f0f921"
             ]
            ],
            "type": "histogram2d"
           }
          ],
          "histogram2dcontour": [
           {
            "colorbar": {
             "outlinewidth": 0,
             "ticks": ""
            },
            "colorscale": [
             [
              0,
              "#0d0887"
             ],
             [
              0.1111111111111111,
              "#46039f"
             ],
             [
              0.2222222222222222,
              "#7201a8"
             ],
             [
              0.3333333333333333,
              "#9c179e"
             ],
             [
              0.4444444444444444,
              "#bd3786"
             ],
             [
              0.5555555555555556,
              "#d8576b"
             ],
             [
              0.6666666666666666,
              "#ed7953"
             ],
             [
              0.7777777777777778,
              "#fb9f3a"
             ],
             [
              0.8888888888888888,
              "#fdca26"
             ],
             [
              1,
              "#f0f921"
             ]
            ],
            "type": "histogram2dcontour"
           }
          ],
          "mesh3d": [
           {
            "colorbar": {
             "outlinewidth": 0,
             "ticks": ""
            },
            "type": "mesh3d"
           }
          ],
          "parcoords": [
           {
            "line": {
             "colorbar": {
              "outlinewidth": 0,
              "ticks": ""
             }
            },
            "type": "parcoords"
           }
          ],
          "pie": [
           {
            "automargin": true,
            "type": "pie"
           }
          ],
          "scatter": [
           {
            "marker": {
             "colorbar": {
              "outlinewidth": 0,
              "ticks": ""
             }
            },
            "type": "scatter"
           }
          ],
          "scatter3d": [
           {
            "line": {
             "colorbar": {
              "outlinewidth": 0,
              "ticks": ""
             }
            },
            "marker": {
             "colorbar": {
              "outlinewidth": 0,
              "ticks": ""
             }
            },
            "type": "scatter3d"
           }
          ],
          "scattercarpet": [
           {
            "marker": {
             "colorbar": {
              "outlinewidth": 0,
              "ticks": ""
             }
            },
            "type": "scattercarpet"
           }
          ],
          "scattergeo": [
           {
            "marker": {
             "colorbar": {
              "outlinewidth": 0,
              "ticks": ""
             }
            },
            "type": "scattergeo"
           }
          ],
          "scattergl": [
           {
            "marker": {
             "colorbar": {
              "outlinewidth": 0,
              "ticks": ""
             }
            },
            "type": "scattergl"
           }
          ],
          "scattermapbox": [
           {
            "marker": {
             "colorbar": {
              "outlinewidth": 0,
              "ticks": ""
             }
            },
            "type": "scattermapbox"
           }
          ],
          "scatterpolar": [
           {
            "marker": {
             "colorbar": {
              "outlinewidth": 0,
              "ticks": ""
             }
            },
            "type": "scatterpolar"
           }
          ],
          "scatterpolargl": [
           {
            "marker": {
             "colorbar": {
              "outlinewidth": 0,
              "ticks": ""
             }
            },
            "type": "scatterpolargl"
           }
          ],
          "scatterternary": [
           {
            "marker": {
             "colorbar": {
              "outlinewidth": 0,
              "ticks": ""
             }
            },
            "type": "scatterternary"
           }
          ],
          "surface": [
           {
            "colorbar": {
             "outlinewidth": 0,
             "ticks": ""
            },
            "colorscale": [
             [
              0,
              "#0d0887"
             ],
             [
              0.1111111111111111,
              "#46039f"
             ],
             [
              0.2222222222222222,
              "#7201a8"
             ],
             [
              0.3333333333333333,
              "#9c179e"
             ],
             [
              0.4444444444444444,
              "#bd3786"
             ],
             [
              0.5555555555555556,
              "#d8576b"
             ],
             [
              0.6666666666666666,
              "#ed7953"
             ],
             [
              0.7777777777777778,
              "#fb9f3a"
             ],
             [
              0.8888888888888888,
              "#fdca26"
             ],
             [
              1,
              "#f0f921"
             ]
            ],
            "type": "surface"
           }
          ],
          "table": [
           {
            "cells": {
             "fill": {
              "color": "#EBF0F8"
             },
             "line": {
              "color": "white"
             }
            },
            "header": {
             "fill": {
              "color": "#C8D4E3"
             },
             "line": {
              "color": "white"
             }
            },
            "type": "table"
           }
          ]
         },
         "layout": {
          "annotationdefaults": {
           "arrowcolor": "#2a3f5f",
           "arrowhead": 0,
           "arrowwidth": 1
          },
          "coloraxis": {
           "colorbar": {
            "outlinewidth": 0,
            "ticks": ""
           }
          },
          "colorscale": {
           "diverging": [
            [
             0,
             "#8e0152"
            ],
            [
             0.1,
             "#c51b7d"
            ],
            [
             0.2,
             "#de77ae"
            ],
            [
             0.3,
             "#f1b6da"
            ],
            [
             0.4,
             "#fde0ef"
            ],
            [
             0.5,
             "#f7f7f7"
            ],
            [
             0.6,
             "#e6f5d0"
            ],
            [
             0.7,
             "#b8e186"
            ],
            [
             0.8,
             "#7fbc41"
            ],
            [
             0.9,
             "#4d9221"
            ],
            [
             1,
             "#276419"
            ]
           ],
           "sequential": [
            [
             0,
             "#0d0887"
            ],
            [
             0.1111111111111111,
             "#46039f"
            ],
            [
             0.2222222222222222,
             "#7201a8"
            ],
            [
             0.3333333333333333,
             "#9c179e"
            ],
            [
             0.4444444444444444,
             "#bd3786"
            ],
            [
             0.5555555555555556,
             "#d8576b"
            ],
            [
             0.6666666666666666,
             "#ed7953"
            ],
            [
             0.7777777777777778,
             "#fb9f3a"
            ],
            [
             0.8888888888888888,
             "#fdca26"
            ],
            [
             1,
             "#f0f921"
            ]
           ],
           "sequentialminus": [
            [
             0,
             "#0d0887"
            ],
            [
             0.1111111111111111,
             "#46039f"
            ],
            [
             0.2222222222222222,
             "#7201a8"
            ],
            [
             0.3333333333333333,
             "#9c179e"
            ],
            [
             0.4444444444444444,
             "#bd3786"
            ],
            [
             0.5555555555555556,
             "#d8576b"
            ],
            [
             0.6666666666666666,
             "#ed7953"
            ],
            [
             0.7777777777777778,
             "#fb9f3a"
            ],
            [
             0.8888888888888888,
             "#fdca26"
            ],
            [
             1,
             "#f0f921"
            ]
           ]
          },
          "colorway": [
           "#636efa",
           "#EF553B",
           "#00cc96",
           "#ab63fa",
           "#FFA15A",
           "#19d3f3",
           "#FF6692",
           "#B6E880",
           "#FF97FF",
           "#FECB52"
          ],
          "font": {
           "color": "#2a3f5f"
          },
          "geo": {
           "bgcolor": "white",
           "lakecolor": "white",
           "landcolor": "#E5ECF6",
           "showlakes": true,
           "showland": true,
           "subunitcolor": "white"
          },
          "hoverlabel": {
           "align": "left"
          },
          "hovermode": "closest",
          "mapbox": {
           "style": "light"
          },
          "paper_bgcolor": "white",
          "plot_bgcolor": "#E5ECF6",
          "polar": {
           "angularaxis": {
            "gridcolor": "white",
            "linecolor": "white",
            "ticks": ""
           },
           "bgcolor": "#E5ECF6",
           "radialaxis": {
            "gridcolor": "white",
            "linecolor": "white",
            "ticks": ""
           }
          },
          "scene": {
           "xaxis": {
            "backgroundcolor": "#E5ECF6",
            "gridcolor": "white",
            "gridwidth": 2,
            "linecolor": "white",
            "showbackground": true,
            "ticks": "",
            "zerolinecolor": "white"
           },
           "yaxis": {
            "backgroundcolor": "#E5ECF6",
            "gridcolor": "white",
            "gridwidth": 2,
            "linecolor": "white",
            "showbackground": true,
            "ticks": "",
            "zerolinecolor": "white"
           },
           "zaxis": {
            "backgroundcolor": "#E5ECF6",
            "gridcolor": "white",
            "gridwidth": 2,
            "linecolor": "white",
            "showbackground": true,
            "ticks": "",
            "zerolinecolor": "white"
           }
          },
          "shapedefaults": {
           "line": {
            "color": "#2a3f5f"
           }
          },
          "ternary": {
           "aaxis": {
            "gridcolor": "white",
            "linecolor": "white",
            "ticks": ""
           },
           "baxis": {
            "gridcolor": "white",
            "linecolor": "white",
            "ticks": ""
           },
           "bgcolor": "#E5ECF6",
           "caxis": {
            "gridcolor": "white",
            "linecolor": "white",
            "ticks": ""
           }
          },
          "title": {
           "x": 0.05
          },
          "xaxis": {
           "automargin": true,
           "gridcolor": "white",
           "linecolor": "white",
           "ticks": "",
           "title": {
            "standoff": 15
           },
           "zerolinecolor": "white",
           "zerolinewidth": 2
          },
          "yaxis": {
           "automargin": true,
           "gridcolor": "white",
           "linecolor": "white",
           "ticks": "",
           "title": {
            "standoff": 15
           },
           "zerolinecolor": "white",
           "zerolinewidth": 2
          }
         }
        },
        "title": {
         "text": "Reduction in unexplained variance"
        },
        "width": 1000,
        "xaxis": {
         "tickangle": 45,
         "title": {
          "text": "Regressors"
         }
        },
        "yaxis": {
         "title": {
          "text": "$\\rho^2$"
         }
        }
       }
      },
      "text/html": [
       "<div>                            <div id=\"e911aab8-fd59-40a9-b978-de7c8a117610\" class=\"plotly-graph-div\" style=\"height:700px; width:1000px;\"></div>            <script type=\"text/javascript\">                require([\"plotly\"], function(Plotly) {                    window.PLOTLYENV=window.PLOTLYENV || {};                                    if (document.getElementById(\"e911aab8-fd59-40a9-b978-de7c8a117610\")) {                    Plotly.newPlot(                        \"e911aab8-fd59-40a9-b978-de7c8a117610\",                        [{\"name\": \"Share of rooms with cement floors\", \"type\": \"bar\", \"x\": [\"index\", \"S_HHpeople\", \"S_headage\", \"S_spouseage\", \"S_headeduc\", \"S_spouseeduc\", \"S_dem1\", \"S_dem2\", \"S_dem3\", \"S_dem4\", \"S_dem5\", \"S_dem6\", \"S_dem7\", \"S_dem8\", \"C(S_waterland)\", \"C(S_waterhouse)\", \"C(S_electricity)\", \"C(S_hasanimals)\", \"C(S_animalsinside)\", \"C(S_garbage)\", \"S_washhands\", \"S_cashtransfers\", \"C(S_milkprogram)\", \"C(S_foodprogram)\", \"C(S_seguropopular)\"], \"y\": [\"Share of rooms with cement floors\", 0.10869903087472199, 0.41921170147425774, 0.13709760336766377, 0.917476877756811, 0.18350644721261228, 0.047495363286727266, 0.010523792309852132, 0.0197662187810823, 0.06646994132439871, 0.04497682749860812, 0.009599348524958981, 0.0005610340805797143, 0.0022241667281015357, 0.28186772665978815, 3.0289077091869525, 0.16786369761579675, 0.00047745553004644565, 0.2775076843738697, 0.015980951432434193, 0.3023400383650379, 0.1290370919389737, 0.06126032862962061, 0.02091456938758035, 0.0]}, {\"name\": \"Cement floor in kitchen\", \"type\": \"bar\", \"x\": [\"index\", \"S_HHpeople\", \"S_headage\", \"S_spouseage\", \"S_headeduc\", \"S_spouseeduc\", \"S_dem1\", \"S_dem2\", \"S_dem3\", \"S_dem4\", \"S_dem5\", \"S_dem6\", \"S_dem7\", \"S_dem8\", \"C(S_waterland)\", \"C(S_waterhouse)\", \"C(S_electricity)\", \"C(S_hasanimals)\", \"C(S_animalsinside)\", \"C(S_garbage)\", \"S_washhands\", \"S_cashtransfers\", \"C(S_milkprogram)\", \"C(S_foodprogram)\", \"C(S_seguropopular)\"], \"y\": [\"Cement floor in kitchen\", 0.0818907706127092, 0.4549743876196124, 0.14940641767824964, 0.8490747085984602, 0.021999378600679763, 0.037886855252478334, 0.008412837688067517, 0.016146185909327496, 0.051611151477306105, 0.04047321622324507, 0.009983211890294776, 0.0016854243208081772, 0.006562136415677235, 0.14145302537668314, 1.6075891143815937, 0.0980373565692752, 0.06122651177865439, 0.24977215350039791, 0.034920148806666204, 0.4980848644009581, 0.2945345521141451, 0.001110448270198043, 0.011544738285845428, 0.0]}, {\"name\": \"Cement floor in dining room\", \"type\": \"bar\", \"x\": [\"index\", \"S_HHpeople\", \"S_headage\", \"S_spouseage\", \"S_headeduc\", \"S_spouseeduc\", \"S_dem1\", \"S_dem2\", \"S_dem3\", \"S_dem4\", \"S_dem5\", \"S_dem6\", \"S_dem7\", \"S_dem8\", \"C(S_waterland)\", \"C(S_waterhouse)\", \"C(S_electricity)\", \"C(S_hasanimals)\", \"C(S_animalsinside)\", \"C(S_garbage)\", \"S_washhands\", \"S_cashtransfers\", \"C(S_milkprogram)\", \"C(S_foodprogram)\", \"C(S_seguropopular)\"], \"y\": [\"Cement floor in dining room\", 0.0642966861361694, 0.5514672066826648, 0.22481422495124245, 0.8699496650543144, 0.012606333904209219, 0.03115330252657852, 0.014345328623243822, 0.024363809442563656, 0.07322567334393112, 0.030557718433087327, 0.013934157500128556, 0.0067414354624909835, 0.021473636877160262, 0.017217206529506063, 2.0805558516841742, 0.06822385493701515, 0.08457383605925846, 0.0438243573795162, 0.041162183027627086, 0.08113027618001915, 0.19543782840674537, 0.007211294136248613, 0.06028561289935189, 0.0]}, {\"name\": \"Cement floor in bathroom\", \"type\": \"bar\", \"x\": [\"index\", \"S_HHpeople\", \"S_headage\", \"S_spouseage\", \"S_headeduc\", \"S_spouseeduc\", \"S_dem1\", \"S_dem2\", \"S_dem3\", \"S_dem4\", \"S_dem5\", \"S_dem6\", \"S_dem7\", \"S_dem8\", \"C(S_waterland)\", \"C(S_waterhouse)\", \"C(S_electricity)\", \"C(S_hasanimals)\", \"C(S_animalsinside)\", \"C(S_garbage)\", \"S_washhands\", \"S_cashtransfers\", \"C(S_milkprogram)\", \"C(S_foodprogram)\", \"C(S_seguropopular)\"], \"y\": [\"Cement floor in bathroom\", 0.009022352781773919, 0.15451005155740716, 0.0035941877977051007, 0.31028897789829046, 0.5081008182138289, 0.03843043871767814, 0.012577554393969338, 0.010880096977143847, 0.023047651775481046, 0.028218046568661607, 0.006314204879386985, 1.2851747641764612e-05, 4.9478410946233114e-05, 0.4606650786412542, 2.414097147580332, 0.2972794880166892, 0.09937863230032264, 0.09418200664572414, 1.0566735828360179, 0.32760563901657797, 0.009819085297598625, 0.13385618331137822, 0.09400368100193758, 0.0]}, {\"name\": \"Cement floor in bedroom\", \"type\": \"bar\", \"x\": [\"index\", \"S_HHpeople\", \"S_headage\", \"S_spouseage\", \"S_headeduc\", \"S_spouseeduc\", \"S_dem1\", \"S_dem2\", \"S_dem3\", \"S_dem4\", \"S_dem5\", \"S_dem6\", \"S_dem7\", \"S_dem8\", \"C(S_waterland)\", \"C(S_waterhouse)\", \"C(S_electricity)\", \"C(S_hasanimals)\", \"C(S_animalsinside)\", \"C(S_garbage)\", \"S_washhands\", \"S_cashtransfers\", \"C(S_milkprogram)\", \"C(S_foodprogram)\", \"C(S_seguropopular)\"], \"y\": [\"Cement floor in bedroom\", 1.0840168683486966, 0.020207432878907833, 0.21902468265809388, 0.5934831472378788, 0.044084772311630174, 0.007174511044832402, 0.002302631831762251, 0.008845433192954014, 0.04953035448118992, 0.00840251447670943, 0.0005506591196981136, 0.0020076446282845527, 0.010535860139309324, 0.21845139860954557, 0.8298466007733678, 0.12169785218037808, 0.0023363368325557718, 0.1927618273868389, 0.003996596435572719, 0.08423494001041751, 0.0002046185735803686, 0.04372355954473465, 0.004963817625600698, 0.0]}],                        {\"autosize\": true, \"height\": 700, \"template\": {\"data\": {\"bar\": [{\"error_x\": {\"color\": \"#2a3f5f\"}, \"error_y\": {\"color\": \"#2a3f5f\"}, \"marker\": {\"line\": {\"color\": \"#E5ECF6\", \"width\": 0.5}}, \"type\": \"bar\"}], \"barpolar\": [{\"marker\": {\"line\": {\"color\": \"#E5ECF6\", \"width\": 0.5}}, \"type\": \"barpolar\"}], \"carpet\": [{\"aaxis\": {\"endlinecolor\": \"#2a3f5f\", \"gridcolor\": \"white\", \"linecolor\": \"white\", \"minorgridcolor\": \"white\", \"startlinecolor\": \"#2a3f5f\"}, \"baxis\": {\"endlinecolor\": \"#2a3f5f\", \"gridcolor\": \"white\", \"linecolor\": \"white\", \"minorgridcolor\": \"white\", \"startlinecolor\": \"#2a3f5f\"}, \"type\": \"carpet\"}], \"choropleth\": [{\"colorbar\": {\"outlinewidth\": 0, \"ticks\": \"\"}, \"type\": \"choropleth\"}], \"contour\": [{\"colorbar\": {\"outlinewidth\": 0, \"ticks\": \"\"}, \"colorscale\": [[0.0, \"#0d0887\"], [0.1111111111111111, \"#46039f\"], [0.2222222222222222, \"#7201a8\"], [0.3333333333333333, \"#9c179e\"], [0.4444444444444444, \"#bd3786\"], [0.5555555555555556, \"#d8576b\"], [0.6666666666666666, \"#ed7953\"], [0.7777777777777778, \"#fb9f3a\"], [0.8888888888888888, \"#fdca26\"], [1.0, \"#f0f921\"]], \"type\": \"contour\"}], \"contourcarpet\": [{\"colorbar\": {\"outlinewidth\": 0, \"ticks\": \"\"}, \"type\": \"contourcarpet\"}], \"heatmap\": [{\"colorbar\": {\"outlinewidth\": 0, \"ticks\": \"\"}, \"colorscale\": [[0.0, \"#0d0887\"], [0.1111111111111111, \"#46039f\"], [0.2222222222222222, \"#7201a8\"], [0.3333333333333333, \"#9c179e\"], [0.4444444444444444, \"#bd3786\"], [0.5555555555555556, \"#d8576b\"], [0.6666666666666666, \"#ed7953\"], [0.7777777777777778, \"#fb9f3a\"], [0.8888888888888888, \"#fdca26\"], [1.0, \"#f0f921\"]], \"type\": \"heatmap\"}], \"heatmapgl\": [{\"colorbar\": {\"outlinewidth\": 0, \"ticks\": \"\"}, \"colorscale\": [[0.0, \"#0d0887\"], [0.1111111111111111, \"#46039f\"], [0.2222222222222222, \"#7201a8\"], [0.3333333333333333, \"#9c179e\"], [0.4444444444444444, \"#bd3786\"], [0.5555555555555556, \"#d8576b\"], [0.6666666666666666, \"#ed7953\"], [0.7777777777777778, \"#fb9f3a\"], [0.8888888888888888, \"#fdca26\"], [1.0, \"#f0f921\"]], \"type\": \"heatmapgl\"}], \"histogram\": [{\"marker\": {\"colorbar\": {\"outlinewidth\": 0, \"ticks\": \"\"}}, \"type\": \"histogram\"}], \"histogram2d\": [{\"colorbar\": {\"outlinewidth\": 0, \"ticks\": \"\"}, \"colorscale\": [[0.0, \"#0d0887\"], [0.1111111111111111, \"#46039f\"], [0.2222222222222222, \"#7201a8\"], [0.3333333333333333, \"#9c179e\"], [0.4444444444444444, \"#bd3786\"], [0.5555555555555556, \"#d8576b\"], [0.6666666666666666, \"#ed7953\"], [0.7777777777777778, \"#fb9f3a\"], [0.8888888888888888, \"#fdca26\"], [1.0, \"#f0f921\"]], \"type\": \"histogram2d\"}], \"histogram2dcontour\": [{\"colorbar\": {\"outlinewidth\": 0, \"ticks\": \"\"}, \"colorscale\": [[0.0, \"#0d0887\"], [0.1111111111111111, \"#46039f\"], [0.2222222222222222, \"#7201a8\"], [0.3333333333333333, \"#9c179e\"], [0.4444444444444444, \"#bd3786\"], [0.5555555555555556, \"#d8576b\"], [0.6666666666666666, \"#ed7953\"], [0.7777777777777778, \"#fb9f3a\"], [0.8888888888888888, \"#fdca26\"], [1.0, \"#f0f921\"]], \"type\": \"histogram2dcontour\"}], \"mesh3d\": [{\"colorbar\": {\"outlinewidth\": 0, \"ticks\": \"\"}, \"type\": \"mesh3d\"}], \"parcoords\": [{\"line\": {\"colorbar\": {\"outlinewidth\": 0, \"ticks\": \"\"}}, \"type\": \"parcoords\"}], \"pie\": [{\"automargin\": true, \"type\": \"pie\"}], \"scatter\": [{\"marker\": {\"colorbar\": {\"outlinewidth\": 0, \"ticks\": \"\"}}, \"type\": \"scatter\"}], \"scatter3d\": [{\"line\": {\"colorbar\": {\"outlinewidth\": 0, \"ticks\": \"\"}}, \"marker\": {\"colorbar\": {\"outlinewidth\": 0, \"ticks\": \"\"}}, \"type\": \"scatter3d\"}], \"scattercarpet\": [{\"marker\": {\"colorbar\": {\"outlinewidth\": 0, \"ticks\": \"\"}}, \"type\": \"scattercarpet\"}], \"scattergeo\": [{\"marker\": {\"colorbar\": {\"outlinewidth\": 0, \"ticks\": \"\"}}, \"type\": \"scattergeo\"}], \"scattergl\": [{\"marker\": {\"colorbar\": {\"outlinewidth\": 0, \"ticks\": \"\"}}, \"type\": \"scattergl\"}], \"scattermapbox\": [{\"marker\": {\"colorbar\": {\"outlinewidth\": 0, \"ticks\": \"\"}}, \"type\": \"scattermapbox\"}], \"scatterpolar\": [{\"marker\": {\"colorbar\": {\"outlinewidth\": 0, \"ticks\": \"\"}}, \"type\": \"scatterpolar\"}], \"scatterpolargl\": [{\"marker\": {\"colorbar\": {\"outlinewidth\": 0, \"ticks\": \"\"}}, \"type\": \"scatterpolargl\"}], \"scatterternary\": [{\"marker\": {\"colorbar\": {\"outlinewidth\": 0, \"ticks\": \"\"}}, \"type\": \"scatterternary\"}], \"surface\": [{\"colorbar\": {\"outlinewidth\": 0, \"ticks\": \"\"}, \"colorscale\": [[0.0, \"#0d0887\"], [0.1111111111111111, \"#46039f\"], [0.2222222222222222, \"#7201a8\"], [0.3333333333333333, \"#9c179e\"], [0.4444444444444444, \"#bd3786\"], [0.5555555555555556, \"#d8576b\"], [0.6666666666666666, \"#ed7953\"], [0.7777777777777778, \"#fb9f3a\"], [0.8888888888888888, \"#fdca26\"], [1.0, \"#f0f921\"]], \"type\": \"surface\"}], \"table\": [{\"cells\": {\"fill\": {\"color\": \"#EBF0F8\"}, \"line\": {\"color\": \"white\"}}, \"header\": {\"fill\": {\"color\": \"#C8D4E3\"}, \"line\": {\"color\": \"white\"}}, \"type\": \"table\"}]}, \"layout\": {\"annotationdefaults\": {\"arrowcolor\": \"#2a3f5f\", \"arrowhead\": 0, \"arrowwidth\": 1}, \"coloraxis\": {\"colorbar\": {\"outlinewidth\": 0, \"ticks\": \"\"}}, \"colorscale\": {\"diverging\": [[0, \"#8e0152\"], [0.1, \"#c51b7d\"], [0.2, \"#de77ae\"], [0.3, \"#f1b6da\"], [0.4, \"#fde0ef\"], [0.5, \"#f7f7f7\"], [0.6, \"#e6f5d0\"], [0.7, \"#b8e186\"], [0.8, \"#7fbc41\"], [0.9, \"#4d9221\"], [1, \"#276419\"]], \"sequential\": [[0.0, \"#0d0887\"], [0.1111111111111111, \"#46039f\"], [0.2222222222222222, \"#7201a8\"], [0.3333333333333333, \"#9c179e\"], [0.4444444444444444, \"#bd3786\"], [0.5555555555555556, \"#d8576b\"], [0.6666666666666666, \"#ed7953\"], [0.7777777777777778, \"#fb9f3a\"], [0.8888888888888888, \"#fdca26\"], [1.0, \"#f0f921\"]], \"sequentialminus\": [[0.0, \"#0d0887\"], [0.1111111111111111, \"#46039f\"], [0.2222222222222222, \"#7201a8\"], [0.3333333333333333, \"#9c179e\"], [0.4444444444444444, \"#bd3786\"], [0.5555555555555556, \"#d8576b\"], [0.6666666666666666, \"#ed7953\"], [0.7777777777777778, \"#fb9f3a\"], [0.8888888888888888, \"#fdca26\"], [1.0, \"#f0f921\"]]}, \"colorway\": [\"#636efa\", \"#EF553B\", \"#00cc96\", \"#ab63fa\", \"#FFA15A\", \"#19d3f3\", \"#FF6692\", \"#B6E880\", \"#FF97FF\", \"#FECB52\"], \"font\": {\"color\": \"#2a3f5f\"}, \"geo\": {\"bgcolor\": \"white\", \"lakecolor\": \"white\", \"landcolor\": \"#E5ECF6\", \"showlakes\": true, \"showland\": true, \"subunitcolor\": \"white\"}, \"hoverlabel\": {\"align\": \"left\"}, \"hovermode\": \"closest\", \"mapbox\": {\"style\": \"light\"}, \"paper_bgcolor\": \"white\", \"plot_bgcolor\": \"#E5ECF6\", \"polar\": {\"angularaxis\": {\"gridcolor\": \"white\", \"linecolor\": \"white\", \"ticks\": \"\"}, \"bgcolor\": \"#E5ECF6\", \"radialaxis\": {\"gridcolor\": \"white\", \"linecolor\": \"white\", \"ticks\": \"\"}}, \"scene\": {\"xaxis\": {\"backgroundcolor\": \"#E5ECF6\", \"gridcolor\": \"white\", \"gridwidth\": 2, \"linecolor\": \"white\", \"showbackground\": true, \"ticks\": \"\", \"zerolinecolor\": \"white\"}, \"yaxis\": {\"backgroundcolor\": \"#E5ECF6\", \"gridcolor\": \"white\", \"gridwidth\": 2, \"linecolor\": \"white\", \"showbackground\": true, \"ticks\": \"\", \"zerolinecolor\": \"white\"}, \"zaxis\": {\"backgroundcolor\": \"#E5ECF6\", \"gridcolor\": \"white\", \"gridwidth\": 2, \"linecolor\": \"white\", \"showbackground\": true, \"ticks\": \"\", \"zerolinecolor\": \"white\"}}, \"shapedefaults\": {\"line\": {\"color\": \"#2a3f5f\"}}, \"ternary\": {\"aaxis\": {\"gridcolor\": \"white\", \"linecolor\": \"white\", \"ticks\": \"\"}, \"baxis\": {\"gridcolor\": \"white\", \"linecolor\": \"white\", \"ticks\": \"\"}, \"bgcolor\": \"#E5ECF6\", \"caxis\": {\"gridcolor\": \"white\", \"linecolor\": \"white\", \"ticks\": \"\"}}, \"title\": {\"x\": 0.05}, \"xaxis\": {\"automargin\": true, \"gridcolor\": \"white\", \"linecolor\": \"white\", \"ticks\": \"\", \"title\": {\"standoff\": 15}, \"zerolinecolor\": \"white\", \"zerolinewidth\": 2}, \"yaxis\": {\"automargin\": true, \"gridcolor\": \"white\", \"linecolor\": \"white\", \"ticks\": \"\", \"title\": {\"standoff\": 15}, \"zerolinecolor\": \"white\", \"zerolinewidth\": 2}}}, \"title\": {\"text\": \"Reduction in unexplained variance\"}, \"width\": 1000, \"xaxis\": {\"tickangle\": 45, \"title\": {\"text\": \"Regressors\"}}, \"yaxis\": {\"title\": {\"text\": \"$\\\\rho^2$\"}}},                        {\"responsive\": true}                    ).then(function(){\n",
       "                            \n",
       "var gd = document.getElementById('e911aab8-fd59-40a9-b978-de7c8a117610');\n",
       "var x = new MutationObserver(function (mutations, observer) {{\n",
       "        var display = window.getComputedStyle(gd).display;\n",
       "        if (!display || display === 'none') {{\n",
       "            console.log([gd, 'removed!']);\n",
       "            Plotly.purge(gd);\n",
       "            observer.disconnect();\n",
       "        }}\n",
       "}});\n",
       "\n",
       "// Listen for the removal of the full notebook cells\n",
       "var notebookContainer = gd.closest('#notebook-container');\n",
       "if (notebookContainer) {{\n",
       "    x.observe(notebookContainer, {childList: true});\n",
       "}}\n",
       "\n",
       "// Listen for the clearing of the current output cell\n",
       "var outputEl = gd.closest('.output');\n",
       "if (outputEl) {{\n",
       "    x.observe(outputEl, {childList: true});\n",
       "}}\n",
       "\n",
       "                        })                };                });            </script>        </div>"
      ]
     },
     "metadata": {},
     "output_type": "display_data"
    }
   ],
   "source": [
    "from plotly import graph_objs as go\n",
    "\n",
    "variables = R2_df['index']\n",
    "counter = 0;\n",
    "R2_fig = R2_df.drop('Total Model 3 R2', axis=1)\n",
    "\n",
    "fig = go.Figure()\n",
    "\n",
    "for vb in variables:\n",
    "    \n",
    "    trace = go.Bar(x=R2_fig.columns, y=R2_fig.iloc[counter], name=vb)\n",
    "    \n",
    "    fig.add_trace(trace)\n",
    "    \n",
    "    counter=counter+1\n",
    "\n",
    "fig.update_layout(\n",
    "    {'title_text': 'Reduction in unexplained variance',\n",
    "        'xaxis': dict(title='Regressors', tickangle=45),\n",
    "        'yaxis_title_text': r'$\\rho^2$',\n",
    "        \"width\": 1000, \"height\": 700,\n",
    "        \"autosize\": True})\n",
    "fig.show()"
   ]
  },
  {
   "cell_type": "markdown",
   "metadata": {},
   "source": [
    "### IV. Propensity score matching\n",
    "> To remedy the matching issues, one can use the propensity score in order to match treatment and control groups."
   ]
  },
  {
   "cell_type": "code",
   "execution_count": 54,
   "metadata": {},
   "outputs": [],
   "source": [
    "### Defining the formulas for the regression models (LHS and RHS)\n",
    "\n",
    "# LHS represents the 5 studied variables\n",
    "\n",
    "mod_formula_lhs = ['S_shcementfloor', 'S_cementfloorkit', 'S_cementfloordin', 'S_cementfloorbat', 'S_cementfloorbed']\n",
    "\n",
    "# RHS represents the control variables for the 3 models\n",
    "  # Model 1: no controls\n",
    "  # Model 2: age, demographic, health habits controls\n",
    "  # Model 3: age, demographic, health habits, and public social programs controls\n",
    "\n",
    "mod_formula_rhs = ['C(dpisofirme)', 'C(dpisofirme) + S_HHpeople + S_headage + S_spouseage + \\\n",
    "                     S_headeduc + S_spouseeduc + S_dem1 + S_dem2 + S_dem3 + S_dem4 + S_dem5 + S_dem6 + S_dem7 \\\n",
    "                     + S_dem8 + C(S_waterland) + C(S_waterhouse) + C(S_electricity) + C(S_hasanimals) + \\\n",
    "                     C(S_animalsinside) + C(S_garbage) + S_washhands', 'C(dpisofirme) + S_HHpeople + S_headage + S_spouseage + \\\n",
    "                     S_headeduc + S_spouseeduc + S_dem1 + S_dem2 + S_dem3 + S_dem4 + S_dem5 + S_dem6 + S_dem7 \\\n",
    "                     + S_dem8 + C(S_waterland) + C(S_waterhouse) + C(S_electricity) + C(S_hasanimals) + \\\n",
    "                     C(S_animalsinside) + C(S_garbage) + S_washhands + S_cashtransfers + C(S_milkprogram) +\\\n",
    "                     C(S_foodprogram) + C(S_seguropopular)'] \n",
    "\n",
    "# N.B. : the variable S_rooms is not included (number of rooms in the house), as it was not included in the Stata code\n",
    "# provided. The variable is said to be used in the Models 2 and 3 in the paper, but the regressions yield better results\n",
    "# in terms of replication when it is not included. "
   ]
  },
  {
   "cell_type": "code",
   "execution_count": 55,
   "metadata": {},
   "outputs": [],
   "source": [
    "### Declare Model\n",
    "\n",
    "mod = smf.ols(formula = mod_formula_lhs[1] + ' ~ ' + mod_formula_rhs[1], data=household_data)\n",
    "\n",
    "### Fit Model\n",
    "\n",
    "np.random.seed(2)\n",
    "res = mod.fit()\n",
    "\n",
    "### Propensity score\n",
    "\n",
    "household_data['Propensity_score'] = res.predict()   "
   ]
  }
 ],
 "metadata": {
  "kernelspec": {
   "display_name": "Python 3",
   "language": "python",
   "name": "python3"
  },
  "language_info": {
   "codemirror_mode": {
    "name": "ipython",
    "version": 3
   },
   "file_extension": ".py",
   "mimetype": "text/x-python",
   "name": "python",
   "nbconvert_exporter": "python",
   "pygments_lexer": "ipython3",
   "version": "3.7.6"
  }
 },
 "nbformat": 4,
 "nbformat_minor": 4
}
