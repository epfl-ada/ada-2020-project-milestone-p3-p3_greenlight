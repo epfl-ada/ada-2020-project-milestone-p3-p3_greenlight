{
 "cells": [
  {
   "cell_type": "markdown",
   "metadata": {},
   "source": [
    "## Housing, Health & Happiness - Creative Extension"
   ]
  },
  {
   "cell_type": "markdown",
   "metadata": {},
   "source": [
    "### I. Importing Libraries and Data"
   ]
  },
  {
   "cell_type": "code",
   "execution_count": 22,
   "metadata": {},
   "outputs": [],
   "source": [
    "### Import libraries\n",
    "\n",
    "import pandas as pd\n",
    "import numpy as np\n",
    "import matplotlib.pyplot as plt\n",
    "%matplotlib inline\n",
    "import math\n",
    "from statsmodels.stats import diagnostic\n",
    "from scipy import stats\n",
    "import statsmodels.api as sm\n",
    "import statsmodels.formula.api as smf\n",
    "import pandas.util.testing as tm\n",
    "import seaborn as sns\n",
    "\n",
    "### Import data\n",
    "\n",
    "DATA_FOLDER = 'Data/'\n",
    "\n",
    "# NaN values are replaced with 0, as described in the paper \n",
    "# SHOULD WE DROP NaN VALUES OR PUT THEM TO 0 ? IT CHANGES THE VALUE FOR THE MEAN !!\n",
    "\n",
    "household_data = pd.read_stata(DATA_FOLDER + 'PisoFirme_AEJPol-20070024_household.dta').dropna()\n",
    "individual_data = pd.read_stata(DATA_FOLDER + 'PisoFirme_AEJPol-20070024_individual.dta').dropna()"
   ]
  },
  {
   "cell_type": "code",
   "execution_count": 23,
   "metadata": {},
   "outputs": [
    {
     "name": "stdout",
     "output_type": "stream",
     "text": [
      "treatment: 936\n",
      "control: 1017\n"
     ]
    }
   ],
   "source": [
    "print('treatment:', len(household_data[household_data['dpisofirme'] == 1]))\n",
    "print('control:', len(household_data[household_data['dpisofirme'] == 0]))"
   ]
  },
  {
   "cell_type": "markdown",
   "metadata": {},
   "source": [
    "### II. Is the original matching truly balanced ? \n",
    "\n",
    "> In the paper 'Housing, Health, and Happiness', the treatment and control group are matched according to the variables C_blockdirtfloor, C_HHdirtfloor, C_child05 and C_households. The paper claims that these 4 variables are balances, according to Table 2 where the means for treatment and control are computed, along with standard errors and the mean difference. Let us verify with statistical tests that this is indeed the case.  "
   ]
  },
  {
   "cell_type": "code",
   "execution_count": 24,
   "metadata": {},
   "outputs": [
    {
     "data": {
      "image/png": "[encoded data removed]",
      "text/plain": [
       "<Figure size 864x720 with 4 Axes>"
      ]
     },
     "metadata": {
      "needs_background": "light"
     },
     "output_type": "display_data"
    }
   ],
   "source": [
    "fig, axes = plt.subplots(2, 2, figsize=(12, 10), sharey=True)\n",
    "fig.subplots_adjust(hspace=0.3)\n",
    "\n",
    "sns.boxplot(ax=axes[0,0], x=household_data['C_blocksdirtfloor'], y=household_data['dpisofirme'], showmeans=True, orient='h');\n",
    "axes[0,0].set_title('Proportion blocks of houses with 1+ houses that has dirt floors ')\n",
    "\n",
    "sns.boxplot(ax=axes[0,1], x=household_data['C_HHdirtfloor'], y=household_data['dpisofirme'], showmeans=True, orient='h');\n",
    "axes[0,1].set_title('Proportion of households with dirt floors');\n",
    "\n",
    "sns.boxplot(ax=axes[1,0], x=household_data['C_child05'], y=household_data['dpisofirme'], showmeans=True, orient='h');\n",
    "axes[1,0].set_title('Average number of children between 0-5 yrs');\n",
    "\n",
    "sns.boxplot(ax=axes[1,1], x=household_data['C_households'], y=household_data['dpisofirme'], showmeans=True, orient='h');\n",
    "axes[1,1].set_title('Number of households ');"
   ]
  },
  {
   "cell_type": "code",
   "execution_count": 25,
   "metadata": {},
   "outputs": [
    {
     "data": {
      "text/html": [
       "<div>\n",
       "<style scoped>\n",
       "    .dataframe tbody tr th:only-of-type {\n",
       "        vertical-align: middle;\n",
       "    }\n",
       "\n",
       "    .dataframe tbody tr th {\n",
       "        vertical-align: top;\n",
       "    }\n",
       "\n",
       "    .dataframe thead th {\n",
       "        text-align: right;\n",
       "    }\n",
       "</style>\n",
       "<table border=\"1\" class=\"dataframe\">\n",
       "  <thead>\n",
       "    <tr style=\"text-align: right;\">\n",
       "      <th></th>\n",
       "      <th>index</th>\n",
       "      <th>C_blocksdirtfloor</th>\n",
       "      <th>C_HHdirtfloor</th>\n",
       "      <th>C_child05</th>\n",
       "      <th>C_households</th>\n",
       "      <th>C_people</th>\n",
       "      <th>C_rooms</th>\n",
       "      <th>C_HHpersons</th>\n",
       "      <th>C_waterland</th>\n",
       "      <th>C_waterhouse</th>\n",
       "      <th>...</th>\n",
       "      <th>S_cesds</th>\n",
       "      <th>S_pss</th>\n",
       "      <th>S_instcement</th>\n",
       "      <th>S_instsanita</th>\n",
       "      <th>S_restsanita</th>\n",
       "      <th>S_constceili</th>\n",
       "      <th>S_restowalls</th>\n",
       "      <th>S_improveany</th>\n",
       "      <th>S_logrent</th>\n",
       "      <th>S_logsell</th>\n",
       "    </tr>\n",
       "  </thead>\n",
       "  <tbody>\n",
       "    <tr>\n",
       "      <th>0</th>\n",
       "      <td>T-test</td>\n",
       "      <td>4.53646e-18</td>\n",
       "      <td>0.0144944</td>\n",
       "      <td>1.70607e-12</td>\n",
       "      <td>0.988007</td>\n",
       "      <td>0.400063</td>\n",
       "      <td>0.0134354</td>\n",
       "      <td>3.71459e-23</td>\n",
       "      <td>3.34897e-16</td>\n",
       "      <td>8.71024e-11</td>\n",
       "      <td>...</td>\n",
       "      <td>1.79029e-07</td>\n",
       "      <td>4.63368e-07</td>\n",
       "      <td>4.12629e-78</td>\n",
       "      <td>0.512149</td>\n",
       "      <td>0.824003</td>\n",
       "      <td>0.342723</td>\n",
       "      <td>0.412259</td>\n",
       "      <td>0.0648689</td>\n",
       "      <td>0.338063</td>\n",
       "      <td>0.599255</td>\n",
       "    </tr>\n",
       "    <tr>\n",
       "      <th>1</th>\n",
       "      <td>Identical Mean</td>\n",
       "      <td>False</td>\n",
       "      <td>False</td>\n",
       "      <td>False</td>\n",
       "      <td>True</td>\n",
       "      <td>True</td>\n",
       "      <td>False</td>\n",
       "      <td>False</td>\n",
       "      <td>False</td>\n",
       "      <td>False</td>\n",
       "      <td>...</td>\n",
       "      <td>False</td>\n",
       "      <td>False</td>\n",
       "      <td>False</td>\n",
       "      <td>True</td>\n",
       "      <td>True</td>\n",
       "      <td>True</td>\n",
       "      <td>True</td>\n",
       "      <td>True</td>\n",
       "      <td>True</td>\n",
       "      <td>True</td>\n",
       "    </tr>\n",
       "  </tbody>\n",
       "</table>\n",
       "<p>2 rows × 73 columns</p>\n",
       "</div>"
      ],
      "text/plain": [
       "            index C_blocksdirtfloor C_HHdirtfloor    C_child05 C_households  \\\n",
       "0          T-test       4.53646e-18     0.0144944  1.70607e-12     0.988007   \n",
       "1  Identical Mean             False         False        False         True   \n",
       "\n",
       "   C_people    C_rooms  C_HHpersons  C_waterland C_waterhouse  ...  \\\n",
       "0  0.400063  0.0134354  3.71459e-23  3.34897e-16  8.71024e-11  ...   \n",
       "1      True      False        False        False        False  ...   \n",
       "\n",
       "       S_cesds        S_pss S_instcement S_instsanita S_restsanita  \\\n",
       "0  1.79029e-07  4.63368e-07  4.12629e-78     0.512149     0.824003   \n",
       "1        False        False        False         True         True   \n",
       "\n",
       "  S_constceili S_restowalls S_improveany S_logrent S_logsell  \n",
       "0     0.342723     0.412259    0.0648689  0.338063  0.599255  \n",
       "1         True         True         True      True      True  \n",
       "\n",
       "[2 rows x 73 columns]"
      ]
     },
     "execution_count": 25,
     "metadata": {},
     "output_type": "execute_result"
    }
   ],
   "source": [
    "import warnings\n",
    "warnings.filterwarnings(\"ignore\")\n",
    "from scipy.stats import levene\n",
    "from scipy.stats import ttest_ind\n",
    "\n",
    "# Levene test verifies the null hypothesis that all input samples are from populations with equal variances.\n",
    "\n",
    "# The t-test verifies the null hypothesis that 2 independent samples have identical average (expected) values. \n",
    "# This test assumes that the populations have identical variances by default, but we define as False if the \n",
    "# variances are not equal (known as Welch's t-test). \n",
    "\n",
    "df = pd.DataFrame(columns = household_data.columns).reset_index()\n",
    "df['index'] = ['T-test', 'Identical Mean']\n",
    "\n",
    "for col in household_data:\n",
    "    \n",
    "    a = household_data[col][household_data['dpisofirme'] == 1]\n",
    "    b = household_data[col][household_data['dpisofirme'] == 0]\n",
    "    ttest = ttest_ind(a, b, equal_var = False, nan_policy = 'omit')\n",
    "    if (ttest.pvalue < 0.05):\n",
    "        identical_mean = False\n",
    "    else:\n",
    "        identical_mean = True\n",
    "        \n",
    "    df[col] = pd.Series([ttest.pvalue, identical_mean])\n",
    "    \n",
    "df = df.drop(df.columns[[1, 2, 3, 4, 5, 6]], axis = 1)\n",
    "df"
   ]
  },
  {
   "cell_type": "markdown",
   "metadata": {},
   "source": [
    "> It appears that the mean values for 3 of the 4 variables used for the matching are not balanced, as the statistical test yields a p-value below the threshold of 0.05, indicating that we must reject the null hypothesis of equal averages."
   ]
  },
  {
   "cell_type": "code",
   "execution_count": 26,
   "metadata": {},
   "outputs": [
    {
     "data": {
      "text/plain": [
       "0.2158486396074295"
      ]
     },
     "execution_count": 26,
     "metadata": {},
     "output_type": "execute_result"
    }
   ],
   "source": [
    "# Looking at the mean values \n",
    "np.mean(household_data['C_blocksdirtfloor'][household_data['dpisofirme'] == 1])\n",
    "np.std(household_data['C_blocksdirtfloor'][household_data['dpisofirme'] == 1])"
   ]
  },
  {
   "cell_type": "markdown",
   "metadata": {},
   "source": [
    "### III. Benchmarking\n",
    "> Omitted variable bias can affect treatment effect estimates obtained from observational data due to the lack of random assignment to treatment groups. Sensitivity analyses adjust these estimates to quantify the impact of potential omitted variables.\n",
    "> As a first step of sensitivity analysis, one can use benchmarking: the use of data to establish reference points for speculation about omitted confounders."
   ]
  },
  {
   "cell_type": "code",
   "execution_count": 27,
   "metadata": {},
   "outputs": [],
   "source": [
    "### Creating a Dataframe for the data\n",
    "\n",
    "R2_df = pd.DataFrame(columns = ['Total Model 3', 'C(dpisofirme)', 'S_HHpeople', 'S_headage','S_spouseage','S_headeduc',\\\n",
    "                                'S_spouseeduc', 'S_dem1','S_dem2','S_dem3','S_dem4','S_dem5','S_dem6','S_dem7','S_dem8',\\\n",
    "                                'C(S_waterland)','C(S_waterhouse)','C(S_electricity)','C(S_hasanimals)','C(S_animalsinside)',\\\n",
    "                                'C(S_garbage)', 'S_washhands', 'S_cashtransfers', 'C(S_milkprogram)', 'C(S_foodprogram)',\\\n",
    "                                'C(S_seguropopular)']).reset_index()\n",
    "R2_df['index'] = ['Share of rooms with cement floors', 'Cement floor in kitchen',\\\n",
    "                  'Cement floor in dining room', 'Cement floor in bathroom', 'Cement floor in bedroom']"
   ]
  },
  {
   "cell_type": "code",
   "execution_count": 28,
   "metadata": {},
   "outputs": [],
   "source": [
    "def create_mod_str(x,z):\n",
    "    output_str = ''\n",
    "    for i in range(0,len(x)):\n",
    "        if((i != z) and (i != len(x)-1)):\n",
    "            output_str = output_str + x[i] + ' + '\n",
    "        if(i == len(x)-1):\n",
    "            output_str = output_str + x[i]\n",
    "    return output_str"
   ]
  },
  {
   "cell_type": "code",
   "execution_count": 29,
   "metadata": {},
   "outputs": [
    {
     "data": {
      "text/html": [
       "<div>\n",
       "<style scoped>\n",
       "    .dataframe tbody tr th:only-of-type {\n",
       "        vertical-align: middle;\n",
       "    }\n",
       "\n",
       "    .dataframe tbody tr th {\n",
       "        vertical-align: top;\n",
       "    }\n",
       "\n",
       "    .dataframe thead th {\n",
       "        text-align: right;\n",
       "    }\n",
       "</style>\n",
       "<table border=\"1\" class=\"dataframe\">\n",
       "  <thead>\n",
       "    <tr style=\"text-align: right;\">\n",
       "      <th></th>\n",
       "      <th>index</th>\n",
       "      <th>Total Model 3</th>\n",
       "      <th>C(dpisofirme)</th>\n",
       "      <th>S_HHpeople</th>\n",
       "      <th>S_headage</th>\n",
       "      <th>S_spouseage</th>\n",
       "      <th>S_headeduc</th>\n",
       "      <th>S_spouseeduc</th>\n",
       "      <th>S_dem1</th>\n",
       "      <th>S_dem2</th>\n",
       "      <th>...</th>\n",
       "      <th>C(S_waterhouse)</th>\n",
       "      <th>C(S_electricity)</th>\n",
       "      <th>C(S_hasanimals)</th>\n",
       "      <th>C(S_animalsinside)</th>\n",
       "      <th>C(S_garbage)</th>\n",
       "      <th>S_washhands</th>\n",
       "      <th>S_cashtransfers</th>\n",
       "      <th>C(S_milkprogram)</th>\n",
       "      <th>C(S_foodprogram)</th>\n",
       "      <th>C(S_seguropopular)</th>\n",
       "    </tr>\n",
       "  </thead>\n",
       "  <tbody>\n",
       "    <tr>\n",
       "      <th>0</th>\n",
       "      <td>Share of rooms with cement floors</td>\n",
       "      <td>0.191436</td>\n",
       "      <td>-2.96818</td>\n",
       "      <td>-0.0447491</td>\n",
       "      <td>-0.00565333</td>\n",
       "      <td>-0.0373261</td>\n",
       "      <td>-0.268815</td>\n",
       "      <td>-0.0450121</td>\n",
       "      <td>-0.0585467</td>\n",
       "      <td>-0.0585467</td>\n",
       "      <td>...</td>\n",
       "      <td>-0.996791</td>\n",
       "      <td>-0.0131407</td>\n",
       "      <td>-0.000110957</td>\n",
       "      <td>-0.0970336</td>\n",
       "      <td>-0.00739002</td>\n",
       "      <td>-0.0768083</td>\n",
       "      <td>-0.123158</td>\n",
       "      <td>-0.00443578</td>\n",
       "      <td>-0.0456003</td>\n",
       "      <td>0</td>\n",
       "    </tr>\n",
       "    <tr>\n",
       "      <th>1</th>\n",
       "      <td>Cement floor in kitchen</td>\n",
       "      <td>0.160218</td>\n",
       "      <td>-2.13668</td>\n",
       "      <td>-0.0413046</td>\n",
       "      <td>-0.0279237</td>\n",
       "      <td>-0.0229414</td>\n",
       "      <td>-0.227514</td>\n",
       "      <td>-0.00570243</td>\n",
       "      <td>-0.0383991</td>\n",
       "      <td>-0.0383991</td>\n",
       "      <td>...</td>\n",
       "      <td>-0.505653</td>\n",
       "      <td>-0.00311954</td>\n",
       "      <td>-0.0213569</td>\n",
       "      <td>-0.0852746</td>\n",
       "      <td>-0.00471999</td>\n",
       "      <td>-0.127004</td>\n",
       "      <td>-0.126766</td>\n",
       "      <td>-8.62792e-05</td>\n",
       "      <td>-0.0373887</td>\n",
       "      <td>0</td>\n",
       "    </tr>\n",
       "    <tr>\n",
       "      <th>2</th>\n",
       "      <td>Cement floor in dining room</td>\n",
       "      <td>0.121382</td>\n",
       "      <td>-1.12876</td>\n",
       "      <td>-0.018162</td>\n",
       "      <td>-0.0095364</td>\n",
       "      <td>-0.0203053</td>\n",
       "      <td>-0.156338</td>\n",
       "      <td>-6.17223e-05</td>\n",
       "      <td>-0.00933973</td>\n",
       "      <td>-0.00933972</td>\n",
       "      <td>...</td>\n",
       "      <td>-0.466036</td>\n",
       "      <td>-1.53841e-05</td>\n",
       "      <td>-0.0279397</td>\n",
       "      <td>-0.00484339</td>\n",
       "      <td>-0.00263837</td>\n",
       "      <td>-0.009657</td>\n",
       "      <td>-0.11047</td>\n",
       "      <td>-0.00414518</td>\n",
       "      <td>-0.0783204</td>\n",
       "      <td>0</td>\n",
       "    </tr>\n",
       "    <tr>\n",
       "      <th>3</th>\n",
       "      <td>Cement floor in bathroom</td>\n",
       "      <td>0.103935</td>\n",
       "      <td>-0.408815</td>\n",
       "      <td>-0.000977321</td>\n",
       "      <td>-0.00441375</td>\n",
       "      <td>-7.07171e-05</td>\n",
       "      <td>-0.051058</td>\n",
       "      <td>-0.0595394</td>\n",
       "      <td>-0.0217058</td>\n",
       "      <td>-0.0217058</td>\n",
       "      <td>...</td>\n",
       "      <td>-0.408903</td>\n",
       "      <td>-0.0371074</td>\n",
       "      <td>-0.0395231</td>\n",
       "      <td>-0.0260611</td>\n",
       "      <td>-0.154316</td>\n",
       "      <td>-0.0537912</td>\n",
       "      <td>-0.0188222</td>\n",
       "      <td>-0.024122</td>\n",
       "      <td>-0.0262373</td>\n",
       "      <td>0</td>\n",
       "    </tr>\n",
       "    <tr>\n",
       "      <th>4</th>\n",
       "      <td>Cement floor in bedroom</td>\n",
       "      <td>0.128028</td>\n",
       "      <td>-1.29014</td>\n",
       "      <td>-0.21216</td>\n",
       "      <td>-0.0159348</td>\n",
       "      <td>-0.0367581</td>\n",
       "      <td>-0.15358</td>\n",
       "      <td>-0.00731602</td>\n",
       "      <td>-0.0379619</td>\n",
       "      <td>-0.0379619</td>\n",
       "      <td>...</td>\n",
       "      <td>-0.167057</td>\n",
       "      <td>-0.0051843</td>\n",
       "      <td>-0.00394761</td>\n",
       "      <td>-0.068713</td>\n",
       "      <td>-0.00124204</td>\n",
       "      <td>-0.00475056</td>\n",
       "      <td>-0.00219662</td>\n",
       "      <td>-0.002917</td>\n",
       "      <td>-0.000230521</td>\n",
       "      <td>0</td>\n",
       "    </tr>\n",
       "  </tbody>\n",
       "</table>\n",
       "<p>5 rows × 27 columns</p>\n",
       "</div>"
      ],
      "text/plain": [
       "                               index Total Model 3 C(dpisofirme)   S_HHpeople  \\\n",
       "0  Share of rooms with cement floors      0.191436      -2.96818   -0.0447491   \n",
       "1            Cement floor in kitchen      0.160218      -2.13668   -0.0413046   \n",
       "2        Cement floor in dining room      0.121382      -1.12876    -0.018162   \n",
       "3           Cement floor in bathroom      0.103935     -0.408815 -0.000977321   \n",
       "4            Cement floor in bedroom      0.128028      -1.29014     -0.21216   \n",
       "\n",
       "    S_headage  S_spouseage S_headeduc S_spouseeduc      S_dem1      S_dem2  \\\n",
       "0 -0.00565333   -0.0373261  -0.268815   -0.0450121  -0.0585467  -0.0585467   \n",
       "1  -0.0279237   -0.0229414  -0.227514  -0.00570243  -0.0383991  -0.0383991   \n",
       "2  -0.0095364   -0.0203053  -0.156338 -6.17223e-05 -0.00933973 -0.00933972   \n",
       "3 -0.00441375 -7.07171e-05  -0.051058   -0.0595394  -0.0217058  -0.0217058   \n",
       "4  -0.0159348   -0.0367581   -0.15358  -0.00731602  -0.0379619  -0.0379619   \n",
       "\n",
       "   ... C(S_waterhouse) C(S_electricity) C(S_hasanimals) C(S_animalsinside)  \\\n",
       "0  ...       -0.996791       -0.0131407    -0.000110957         -0.0970336   \n",
       "1  ...       -0.505653      -0.00311954      -0.0213569         -0.0852746   \n",
       "2  ...       -0.466036     -1.53841e-05      -0.0279397        -0.00484339   \n",
       "3  ...       -0.408903       -0.0371074      -0.0395231         -0.0260611   \n",
       "4  ...       -0.167057       -0.0051843     -0.00394761          -0.068713   \n",
       "\n",
       "  C(S_garbage) S_washhands S_cashtransfers C(S_milkprogram) C(S_foodprogram)  \\\n",
       "0  -0.00739002  -0.0768083       -0.123158      -0.00443578       -0.0456003   \n",
       "1  -0.00471999   -0.127004       -0.126766     -8.62792e-05       -0.0373887   \n",
       "2  -0.00263837   -0.009657        -0.11047      -0.00414518       -0.0783204   \n",
       "3    -0.154316  -0.0537912      -0.0188222        -0.024122       -0.0262373   \n",
       "4  -0.00124204 -0.00475056     -0.00219662        -0.002917     -0.000230521   \n",
       "\n",
       "  C(S_seguropopular)  \n",
       "0                  0  \n",
       "1                  0  \n",
       "2                  0  \n",
       "3                  0  \n",
       "4                  0  \n",
       "\n",
       "[5 rows x 27 columns]"
      ]
     },
     "execution_count": 29,
     "metadata": {},
     "output_type": "execute_result"
    }
   ],
   "source": [
    "### Omitted variable bias \n",
    "\n",
    "# We begin by looking at the effect of regressors on R^2. We can look at each variable of the models and see \n",
    "# the change incurred in R^2 when the regressors are not included in the model. This enables a classification \n",
    "# of the most predictive regressors in terms of R^2. Indeed, the difference in R^2 corresponds to the bias \n",
    "# that would have been incurred by omitting said variable in the model. \n",
    "\n",
    "# Looking at Model 3 for Table 4 of the paper\n",
    "mod_variables = ['S_shcementfloor', 'S_cementfloorkit', 'S_cementfloordin', 'S_cementfloorbat', 'S_cementfloorbed']\n",
    "mod_regressors = ['C(dpisofirme)', 'S_HHpeople', 'S_headage','S_spouseage','S_headeduc',\\\n",
    "                  'S_spouseeduc', 'S_dem1','S_dem2','S_dem3','S_dem4','S_dem5','S_dem6','S_dem7','S_dem8',\\\n",
    "                  'C(S_waterland)','C(S_waterhouse)','C(S_electricity)','C(S_hasanimals)','C(S_animalsinside)',\\\n",
    "                  'C(S_garbage)', 'S_washhands', 'S_cashtransfers', 'C(S_milkprogram)', 'C(S_foodprogram)',\\\n",
    "                  'C(S_seguropopular)']\n",
    "model3 = 'C(dpisofirme) + S_HHpeople + S_headage + S_spouseage + \\\n",
    "                     S_headeduc + S_spouseeduc + S_dem1 + S_dem2 + S_dem3 + S_dem4 + S_dem5 + S_dem6 + S_dem7 \\\n",
    "                     + S_dem8 + C(S_waterland) + C(S_waterhouse) + C(S_electricity) + C(S_hasanimals) + \\\n",
    "                     C(S_animalsinside) + C(S_garbage) + S_washhands + S_cashtransfers + C(S_milkprogram) +\\\n",
    "                     C(S_foodprogram) + C(S_seguropopular)'\n",
    "\n",
    "for i in range(0,5):\n",
    "    \n",
    "    # Declaring Model\n",
    "    mod = smf.ols(formula = mod_variables[i] + ' ~ ' + model3, data = household_data)\n",
    "\n",
    "    # Fitting Model\n",
    "    np.random.seed(2)\n",
    "    res = mod.fit(cov_type = 'cluster', cov_kwds={'groups': household_data['idcluster']})\n",
    "    R2 = res.rsquared\n",
    "    R2_df['Total Model 3'].iloc[i] = R2\n",
    "    \n",
    "    for j in range(len(mod_regressors)):\n",
    "    \n",
    "        # Declaring the Model\n",
    "        mod = smf.ols(formula = mod_variables[i] + ' ~ ' + create_mod_str(mod_regressors,j), data = household_data)\n",
    "\n",
    "        # Fitting Model\n",
    "        np.random.seed(2)\n",
    "        res = mod.fit(cov_type = 'cluster', cov_kwds={'groups': household_data['idcluster']})\n",
    "        R2 = res.rsquared\n",
    "        R2_df[mod_regressors[j]].iloc[i] = 100*((1-np.square(R2_df['Total Model 3'].iloc[i]))-(1-np.square(R2)))/(1-np.square(R2_df['Total Model 3'].iloc[i]))\n",
    "\n",
    "R2_df"
   ]
  },
  {
   "cell_type": "code",
   "execution_count": 38,
   "metadata": {},
   "outputs": [
    {
     "data": {
      "application/vnd.plotly.v1+json": {
       "config": {
        "plotlyServerURL": "https://plot.ly"
       },
       "data": [
        {
         "name": "Share of rooms with cement floors",
         "type": "bar",
         "x": [
          "index",
          "Total Model 3",
          "C(dpisofirme)",
          "S_HHpeople",
          "S_headage",
          "S_spouseage",
          "S_headeduc",
          "S_spouseeduc",
          "S_dem1",
          "S_dem2",
          "S_dem3",
          "S_dem4",
          "S_dem5",
          "S_dem6",
          "S_dem7",
          "S_dem8",
          "C(S_waterland)",
          "C(S_waterhouse)",
          "C(S_electricity)",
          "C(S_hasanimals)",
          "C(S_animalsinside)",
          "C(S_garbage)",
          "S_washhands",
          "S_cashtransfers",
          "C(S_milkprogram)",
          "C(S_foodprogram)",
          "C(S_seguropopular)"
         ],
         "y": [
          "Share of rooms with cement floors",
          0.19143613132069237,
          -2.9681765848392008,
          -0.04474911820571779,
          -0.005653327636787926,
          -0.03732608099306907,
          -0.26881525399645273,
          -0.04501209889186103,
          -0.05854670340541157,
          -0.05854666878981223,
          -0.05854669297515897,
          -0.05854668717428433,
          -0.05854669967076748,
          -0.058546676878362236,
          -0.05854666315169925,
          -0.05854668356788577,
          -0.2634027967947319,
          -0.9967908697357195,
          -0.013140654393020175,
          -0.00011095727580831107,
          -0.09703364434088416,
          -0.007390021845687192,
          -0.07680830525566273,
          -0.12315838149387053,
          -0.004435775119469915,
          -0.045600279426606605,
          0
         ]
        },
        {
         "name": "Cement floor in kitchen",
         "type": "bar",
         "x": [
          "index",
          "Total Model 3",
          "C(dpisofirme)",
          "S_HHpeople",
          "S_headage",
          "S_spouseage",
          "S_headeduc",
          "S_spouseeduc",
          "S_dem1",
          "S_dem2",
          "S_dem3",
          "S_dem4",
          "S_dem5",
          "S_dem6",
          "S_dem7",
          "S_dem8",
          "C(S_waterland)",
          "C(S_waterhouse)",
          "C(S_electricity)",
          "C(S_hasanimals)",
          "C(S_animalsinside)",
          "C(S_garbage)",
          "S_washhands",
          "S_cashtransfers",
          "C(S_milkprogram)",
          "C(S_foodprogram)",
          "C(S_seguropopular)"
         ],
         "y": [
          "Cement floor in kitchen",
          0.160217887326074,
          -2.136680835040695,
          -0.04130463205981673,
          -0.027923664989038706,
          -0.022941368752366832,
          -0.22751370912541236,
          -0.00570243188133164,
          -0.038399074922645555,
          -0.03839905443129683,
          -0.03839906693738943,
          -0.038399076074048875,
          -0.03839907323889183,
          -0.03839906142229436,
          -0.03839905356291582,
          -0.03839905895010505,
          -0.1274884599212065,
          -0.5056525761915323,
          -0.003119541139007189,
          -0.021356860966279815,
          -0.08527461022734378,
          -0.004719988079793295,
          -0.12700392802869923,
          -0.12676615321858292,
          -8.627923380984532e-05,
          -0.03738873868640986,
          0
         ]
        },
        {
         "name": "Cement floor in dining room",
         "type": "bar",
         "x": [
          "index",
          "Total Model 3",
          "C(dpisofirme)",
          "S_HHpeople",
          "S_headage",
          "S_spouseage",
          "S_headeduc",
          "S_spouseeduc",
          "S_dem1",
          "S_dem2",
          "S_dem3",
          "S_dem4",
          "S_dem5",
          "S_dem6",
          "S_dem7",
          "S_dem8",
          "C(S_waterland)",
          "C(S_waterhouse)",
          "C(S_electricity)",
          "C(S_hasanimals)",
          "C(S_animalsinside)",
          "C(S_garbage)",
          "S_washhands",
          "S_cashtransfers",
          "C(S_milkprogram)",
          "C(S_foodprogram)",
          "C(S_seguropopular)"
         ],
         "y": [
          "Cement floor in dining room",
          0.12138185734946605,
          -1.1287614315874268,
          -0.0181619721667352,
          -0.009536403029418198,
          -0.020305293606084435,
          -0.15633807312435843,
          -6.172229084349533e-05,
          -0.009339730188640703,
          -0.009339722528122645,
          -0.009339730202218946,
          -0.009339727069002697,
          -0.00933972956135967,
          -0.009339724926153084,
          -0.00933972309267332,
          -0.009339733199517546,
          -0.053377862180350046,
          -0.4660361898738674,
          -1.538412877213536e-05,
          -0.027939694583101738,
          -0.004843394712902428,
          -0.0026383711994067706,
          -0.009656995809828,
          -0.11046951377552397,
          -0.004145177612158739,
          -0.07832037143745589,
          0
         ]
        },
        {
         "name": "Cement floor in bathroom",
         "type": "bar",
         "x": [
          "index",
          "Total Model 3",
          "C(dpisofirme)",
          "S_HHpeople",
          "S_headage",
          "S_spouseage",
          "S_headeduc",
          "S_spouseeduc",
          "S_dem1",
          "S_dem2",
          "S_dem3",
          "S_dem4",
          "S_dem5",
          "S_dem6",
          "S_dem7",
          "S_dem8",
          "C(S_waterland)",
          "C(S_waterhouse)",
          "C(S_electricity)",
          "C(S_hasanimals)",
          "C(S_animalsinside)",
          "C(S_garbage)",
          "S_washhands",
          "S_cashtransfers",
          "C(S_milkprogram)",
          "C(S_foodprogram)",
          "C(S_seguropopular)"
         ],
         "y": [
          "Cement floor in bathroom",
          0.1039353095028146,
          -0.4088153518486362,
          -0.0009773211136452,
          -0.004413749304454668,
          -7.071707356136394e-05,
          -0.05105798030251542,
          -0.05953944612303757,
          -0.021705799322291174,
          -0.021705790708691414,
          -0.021705791573583415,
          -0.021705789182950137,
          -0.021705795070301123,
          -0.021705787237922377,
          -0.02170578010275696,
          -0.02170578340424236,
          -0.13912323698169898,
          -0.4089026310457633,
          -0.03710739701571419,
          -0.03952310871432914,
          -0.026061091752211326,
          -0.15431608447677714,
          -0.05379121060671865,
          -0.018822171739850402,
          -0.024121967200690705,
          -0.02623734188447127,
          0
         ]
        },
        {
         "name": "Cement floor in bedroom",
         "type": "bar",
         "x": [
          "index",
          "Total Model 3",
          "C(dpisofirme)",
          "S_HHpeople",
          "S_headage",
          "S_spouseage",
          "S_headeduc",
          "S_spouseeduc",
          "S_dem1",
          "S_dem2",
          "S_dem3",
          "S_dem4",
          "S_dem5",
          "S_dem6",
          "S_dem7",
          "S_dem8",
          "C(S_waterland)",
          "C(S_waterhouse)",
          "C(S_electricity)",
          "C(S_hasanimals)",
          "C(S_animalsinside)",
          "C(S_garbage)",
          "S_washhands",
          "S_cashtransfers",
          "C(S_milkprogram)",
          "C(S_foodprogram)",
          "C(S_seguropopular)"
         ],
         "y": [
          "Cement floor in bedroom",
          0.12802809616239896,
          -1.2901372949051844,
          -0.21215995880840197,
          -0.015934761933485305,
          -0.03675814920953397,
          -0.15358042812616385,
          -0.007316017888869788,
          -0.03796194899513523,
          -0.0379619274928271,
          -0.03796196064431353,
          -0.03796196084076797,
          -0.03796194968839761,
          -0.03796194195300262,
          -0.037961930581546906,
          -0.037961927905974004,
          -0.13028176314830522,
          -0.16705720097841267,
          -0.005184295951204907,
          -0.003947610270046978,
          -0.06871300477358731,
          -0.001242037608236939,
          -0.004750560469744833,
          -0.002196619552379562,
          -0.0029169979447401426,
          -0.000230521443367717,
          0
         ]
        }
       ],
       "layout": {
        "autosize": true,
        "height": 700,
        "template": {
         "data": {
          "bar": [
           {
            "error_x": {
             "color": "#2a3f5f"
            },
            "error_y": {
             "color": "#2a3f5f"
            },
            "marker": {
             "line": {
              "color": "#E5ECF6",
              "width": 0.5
             }
            },
            "type": "bar"
           }
          ],
          "barpolar": [
           {
            "marker": {
             "line": {
              "color": "#E5ECF6",
              "width": 0.5
             }
            },
            "type": "barpolar"
           }
          ],
          "carpet": [
           {
            "aaxis": {
             "endlinecolor": "#2a3f5f",
             "gridcolor": "white",
             "linecolor": "white",
             "minorgridcolor": "white",
             "startlinecolor": "#2a3f5f"
            },
            "baxis": {
             "endlinecolor": "#2a3f5f",
             "gridcolor": "white",
             "linecolor": "white",
             "minorgridcolor": "white",
             "startlinecolor": "#2a3f5f"
            },
            "type": "carpet"
           }
          ],
          "choropleth": [
           {
            "colorbar": {
             "outlinewidth": 0,
             "ticks": ""
            },
            "type": "choropleth"
           }
          ],
          "contour": [
           {
            "colorbar": {
             "outlinewidth": 0,
             "ticks": ""
            },
            "colorscale": [
             [
              0,
              "#0d0887"
             ],
             [
              0.1111111111111111,
              "#46039f"
             ],
             [
              0.2222222222222222,
              "#7201a8"
             ],
             [
              0.3333333333333333,
              "#9c179e"
             ],
             [
              0.4444444444444444,
              "#bd3786"
             ],
             [
              0.5555555555555556,
              "#d8576b"
             ],
             [
              0.6666666666666666,
              "#ed7953"
             ],
             [
              0.7777777777777778,
              "#fb9f3a"
             ],
             [
              0.8888888888888888,
              "#fdca26"
             ],
             [
              1,
              "#f0f921"
             ]
            ],
            "type": "contour"
           }
          ],
          "contourcarpet": [
           {
            "colorbar": {
             "outlinewidth": 0,
             "ticks": ""
            },
            "type": "contourcarpet"
           }
          ],
          "heatmap": [
           {
            "colorbar": {
             "outlinewidth": 0,
             "ticks": ""
            },
            "colorscale": [
             [
              0,
              "#0d0887"
             ],
             [
              0.1111111111111111,
              "#46039f"
             ],
             [
              0.2222222222222222,
              "#7201a8"
             ],
             [
              0.3333333333333333,
              "#9c179e"
             ],
             [
              0.4444444444444444,
              "#bd3786"
             ],
             [
              0.5555555555555556,
              "#d8576b"
             ],
             [
              0.6666666666666666,
              "#ed7953"
             ],
             [
              0.7777777777777778,
              "#fb9f3a"
             ],
             [
              0.8888888888888888,
              "#fdca26"
             ],
             [
              1,
              "#f0f921"
             ]
            ],
            "type": "heatmap"
           }
          ],
          "heatmapgl": [
           {
            "colorbar": {
             "outlinewidth": 0,
             "ticks": ""
            },
            "colorscale": [
             [
              0,
              "#0d0887"
             ],
             [
              0.1111111111111111,
              "#46039f"
             ],
             [
              0.2222222222222222,
              "#7201a8"
             ],
             [
              0.3333333333333333,
              "#9c179e"
             ],
             [
              0.4444444444444444,
              "#bd3786"
             ],
             [
              0.5555555555555556,
              "#d8576b"
             ],
             [
              0.6666666666666666,
              "#ed7953"
             ],
             [
              0.7777777777777778,
              "#fb9f3a"
             ],
             [
              0.8888888888888888,
              "#fdca26"
             ],
             [
              1,
              "#f0f921"
             ]
            ],
            "type": "heatmapgl"
           }
          ],
          "histogram": [
           {
            "marker": {
             "colorbar": {
              "outlinewidth": 0,
              "ticks": ""
             }
            },
            "type": "histogram"
           }
          ],
          "histogram2d": [
           {
            "colorbar": {
             "outlinewidth": 0,
             "ticks": ""
            },
            "colorscale": [
             [
              0,
              "#0d0887"
             ],
             [
              0.1111111111111111,
              "#46039f"
             ],
             [
              0.2222222222222222,
              "#7201a8"
             ],
             [
              0.3333333333333333,
              "#9c179e"
             ],
             [
              0.4444444444444444,
              "#bd3786"
             ],
             [
              0.5555555555555556,
              "#d8576b"
             ],
             [
              0.6666666666666666,
              "#ed7953"
             ],
             [
              0.7777777777777778,
              "#fb9f3a"
             ],
             [
              0.8888888888888888,
              "#fdca26"
             ],
             [
              1,
              "#f0f921"
             ]
            ],
            "type": "histogram2d"
           }
          ],
          "histogram2dcontour": [
           {
            "colorbar": {
             "outlinewidth": 0,
             "ticks": ""
            },
            "colorscale": [
             [
              0,
              "#0d0887"
             ],
             [
              0.1111111111111111,
              "#46039f"
             ],
             [
              0.2222222222222222,
              "#7201a8"
             ],
             [
              0.3333333333333333,
              "#9c179e"
             ],
             [
              0.4444444444444444,
              "#bd3786"
             ],
             [
              0.5555555555555556,
              "#d8576b"
             ],
             [
              0.6666666666666666,
              "#ed7953"
             ],
             [
              0.7777777777777778,
              "#fb9f3a"
             ],
             [
              0.8888888888888888,
              "#fdca26"
             ],
             [
              1,
              "#f0f921"
             ]
            ],
            "type": "histogram2dcontour"
           }
          ],
          "mesh3d": [
           {
            "colorbar": {
             "outlinewidth": 0,
             "ticks": ""
            },
            "type": "mesh3d"
           }
          ],
          "parcoords": [
           {
            "line": {
             "colorbar": {
              "outlinewidth": 0,
              "ticks": ""
             }
            },
            "type": "parcoords"
           }
          ],
          "pie": [
           {
            "automargin": true,
            "type": "pie"
           }
          ],
          "scatter": [
           {
            "marker": {
             "colorbar": {
              "outlinewidth": 0,
              "ticks": ""
             }
            },
            "type": "scatter"
           }
          ],
          "scatter3d": [
           {
            "line": {
             "colorbar": {
              "outlinewidth": 0,
              "ticks": ""
             }
            },
            "marker": {
             "colorbar": {
              "outlinewidth": 0,
              "ticks": ""
             }
            },
            "type": "scatter3d"
           }
          ],
          "scattercarpet": [
           {
            "marker": {
             "colorbar": {
              "outlinewidth": 0,
              "ticks": ""
             }
            },
            "type": "scattercarpet"
           }
          ],
          "scattergeo": [
           {
            "marker": {
             "colorbar": {
              "outlinewidth": 0,
              "ticks": ""
             }
            },
            "type": "scattergeo"
           }
          ],
          "scattergl": [
           {
            "marker": {
             "colorbar": {
              "outlinewidth": 0,
              "ticks": ""
             }
            },
            "type": "scattergl"
           }
          ],
          "scattermapbox": [
           {
            "marker": {
             "colorbar": {
              "outlinewidth": 0,
              "ticks": ""
             }
            },
            "type": "scattermapbox"
           }
          ],
          "scatterpolar": [
           {
            "marker": {
             "colorbar": {
              "outlinewidth": 0,
              "ticks": ""
             }
            },
            "type": "scatterpolar"
           }
          ],
          "scatterpolargl": [
           {
            "marker": {
             "colorbar": {
              "outlinewidth": 0,
              "ticks": ""
             }
            },
            "type": "scatterpolargl"
           }
          ],
          "scatterternary": [
           {
            "marker": {
             "colorbar": {
              "outlinewidth": 0,
              "ticks": ""
             }
            },
            "type": "scatterternary"
           }
          ],
          "surface": [
           {
            "colorbar": {
             "outlinewidth": 0,
             "ticks": ""
            },
            "colorscale": [
             [
              0,
              "#0d0887"
             ],
             [
              0.1111111111111111,
              "#46039f"
             ],
             [
              0.2222222222222222,
              "#7201a8"
             ],
             [
              0.3333333333333333,
              "#9c179e"
             ],
             [
              0.4444444444444444,
              "#bd3786"
             ],
             [
              0.5555555555555556,
              "#d8576b"
             ],
             [
              0.6666666666666666,
              "#ed7953"
             ],
             [
              0.7777777777777778,
              "#fb9f3a"
             ],
             [
              0.8888888888888888,
              "#fdca26"
             ],
             [
              1,
              "#f0f921"
             ]
            ],
            "type": "surface"
           }
          ],
          "table": [
           {
            "cells": {
             "fill": {
              "color": "#EBF0F8"
             },
             "line": {
              "color": "white"
             }
            },
            "header": {
             "fill": {
              "color": "#C8D4E3"
             },
             "line": {
              "color": "white"
             }
            },
            "type": "table"
           }
          ]
         },
         "layout": {
          "annotationdefaults": {
           "arrowcolor": "#2a3f5f",
           "arrowhead": 0,
           "arrowwidth": 1
          },
          "coloraxis": {
           "colorbar": {
            "outlinewidth": 0,
            "ticks": ""
           }
          },
          "colorscale": {
           "diverging": [
            [
             0,
             "#8e0152"
            ],
            [
             0.1,
             "#c51b7d"
            ],
            [
             0.2,
             "#de77ae"
            ],
            [
             0.3,
             "#f1b6da"
            ],
            [
             0.4,
             "#fde0ef"
            ],
            [
             0.5,
             "#f7f7f7"
            ],
            [
             0.6,
             "#e6f5d0"
            ],
            [
             0.7,
             "#b8e186"
            ],
            [
             0.8,
             "#7fbc41"
            ],
            [
             0.9,
             "#4d9221"
            ],
            [
             1,
             "#276419"
            ]
           ],
           "sequential": [
            [
             0,
             "#0d0887"
            ],
            [
             0.1111111111111111,
             "#46039f"
            ],
            [
             0.2222222222222222,
             "#7201a8"
            ],
            [
             0.3333333333333333,
             "#9c179e"
            ],
            [
             0.4444444444444444,
             "#bd3786"
            ],
            [
             0.5555555555555556,
             "#d8576b"
            ],
            [
             0.6666666666666666,
             "#ed7953"
            ],
            [
             0.7777777777777778,
             "#fb9f3a"
            ],
            [
             0.8888888888888888,
             "#fdca26"
            ],
            [
             1,
             "#f0f921"
            ]
           ],
           "sequentialminus": [
            [
             0,
             "#0d0887"
            ],
            [
             0.1111111111111111,
             "#46039f"
            ],
            [
             0.2222222222222222,
             "#7201a8"
            ],
            [
             0.3333333333333333,
             "#9c179e"
            ],
            [
             0.4444444444444444,
             "#bd3786"
            ],
            [
             0.5555555555555556,
             "#d8576b"
            ],
            [
             0.6666666666666666,
             "#ed7953"
            ],
            [
             0.7777777777777778,
             "#fb9f3a"
            ],
            [
             0.8888888888888888,
             "#fdca26"
            ],
            [
             1,
             "#f0f921"
            ]
           ]
          },
          "colorway": [
           "#636efa",
           "#EF553B",
           "#00cc96",
           "#ab63fa",
           "#FFA15A",
           "#19d3f3",
           "#FF6692",
           "#B6E880",
           "#FF97FF",
           "#FECB52"
          ],
          "font": {
           "color": "#2a3f5f"
          },
          "geo": {
           "bgcolor": "white",
           "lakecolor": "white",
           "landcolor": "#E5ECF6",
           "showlakes": true,
           "showland": true,
           "subunitcolor": "white"
          },
          "hoverlabel": {
           "align": "left"
          },
          "hovermode": "closest",
          "mapbox": {
           "style": "light"
          },
          "paper_bgcolor": "white",
          "plot_bgcolor": "#E5ECF6",
          "polar": {
           "angularaxis": {
            "gridcolor": "white",
            "linecolor": "white",
            "ticks": ""
           },
           "bgcolor": "#E5ECF6",
           "radialaxis": {
            "gridcolor": "white",
            "linecolor": "white",
            "ticks": ""
           }
          },
          "scene": {
           "xaxis": {
            "backgroundcolor": "#E5ECF6",
            "gridcolor": "white",
            "gridwidth": 2,
            "linecolor": "white",
            "showbackground": true,
            "ticks": "",
            "zerolinecolor": "white"
           },
           "yaxis": {
            "backgroundcolor": "#E5ECF6",
            "gridcolor": "white",
            "gridwidth": 2,
            "linecolor": "white",
            "showbackground": true,
            "ticks": "",
            "zerolinecolor": "white"
           },
           "zaxis": {
            "backgroundcolor": "#E5ECF6",
            "gridcolor": "white",
            "gridwidth": 2,
            "linecolor": "white",
            "showbackground": true,
            "ticks": "",
            "zerolinecolor": "white"
           }
          },
          "shapedefaults": {
           "line": {
            "color": "#2a3f5f"
           }
          },
          "ternary": {
           "aaxis": {
            "gridcolor": "white",
            "linecolor": "white",
            "ticks": ""
           },
           "baxis": {
            "gridcolor": "white",
            "linecolor": "white",
            "ticks": ""
           },
           "bgcolor": "#E5ECF6",
           "caxis": {
            "gridcolor": "white",
            "linecolor": "white",
            "ticks": ""
           }
          },
          "title": {
           "x": 0.05
          },
          "xaxis": {
           "automargin": true,
           "gridcolor": "white",
           "linecolor": "white",
           "ticks": "",
           "title": {
            "standoff": 15
           },
           "zerolinecolor": "white",
           "zerolinewidth": 2
          },
          "yaxis": {
           "automargin": true,
           "gridcolor": "white",
           "linecolor": "white",
           "ticks": "",
           "title": {
            "standoff": 15
           },
           "zerolinecolor": "white",
           "zerolinewidth": 2
          }
         }
        },
        "title": {
         "text": "$R^2$ bias"
        },
        "width": 1000,
        "xaxis": {
         "tickangle": 45,
         "title": {
          "text": "Regressors"
         }
        },
        "yaxis": {
         "title": {
          "text": "$R^2$ values"
         }
        }
       }
      },
      "text/html": [
       "<div>                            <div id=\"2fd0617b-9f53-4698-a3de-068a769c8b6a\" class=\"plotly-graph-div\" style=\"height:700px; width:1000px;\"></div>            <script type=\"text/javascript\">                require([\"plotly\"], function(Plotly) {                    window.PLOTLYENV=window.PLOTLYENV || {};                                    if (document.getElementById(\"2fd0617b-9f53-4698-a3de-068a769c8b6a\")) {                    Plotly.newPlot(                        \"2fd0617b-9f53-4698-a3de-068a769c8b6a\",                        [{\"name\": \"Share of rooms with cement floors\", \"type\": \"bar\", \"x\": [\"index\", \"Total Model 3\", \"C(dpisofirme)\", \"S_HHpeople\", \"S_headage\", \"S_spouseage\", \"S_headeduc\", \"S_spouseeduc\", \"S_dem1\", \"S_dem2\", \"S_dem3\", \"S_dem4\", \"S_dem5\", \"S_dem6\", \"S_dem7\", \"S_dem8\", \"C(S_waterland)\", \"C(S_waterhouse)\", \"C(S_electricity)\", \"C(S_hasanimals)\", \"C(S_animalsinside)\", \"C(S_garbage)\", \"S_washhands\", \"S_cashtransfers\", \"C(S_milkprogram)\", \"C(S_foodprogram)\", \"C(S_seguropopular)\"], \"y\": [\"Share of rooms with cement floors\", 0.19143613132069237, -2.9681765848392008, -0.04474911820571779, -0.005653327636787926, -0.03732608099306907, -0.26881525399645273, -0.04501209889186103, -0.05854670340541157, -0.05854666878981223, -0.05854669297515897, -0.05854668717428433, -0.05854669967076748, -0.058546676878362236, -0.05854666315169925, -0.05854668356788577, -0.2634027967947319, -0.9967908697357195, -0.013140654393020175, -0.00011095727580831107, -0.09703364434088416, -0.007390021845687192, -0.07680830525566273, -0.12315838149387053, -0.004435775119469915, -0.045600279426606605, 0.0]}, {\"name\": \"Cement floor in kitchen\", \"type\": \"bar\", \"x\": [\"index\", \"Total Model 3\", \"C(dpisofirme)\", \"S_HHpeople\", \"S_headage\", \"S_spouseage\", \"S_headeduc\", \"S_spouseeduc\", \"S_dem1\", \"S_dem2\", \"S_dem3\", \"S_dem4\", \"S_dem5\", \"S_dem6\", \"S_dem7\", \"S_dem8\", \"C(S_waterland)\", \"C(S_waterhouse)\", \"C(S_electricity)\", \"C(S_hasanimals)\", \"C(S_animalsinside)\", \"C(S_garbage)\", \"S_washhands\", \"S_cashtransfers\", \"C(S_milkprogram)\", \"C(S_foodprogram)\", \"C(S_seguropopular)\"], \"y\": [\"Cement floor in kitchen\", 0.160217887326074, -2.136680835040695, -0.04130463205981673, -0.027923664989038706, -0.022941368752366832, -0.22751370912541236, -0.00570243188133164, -0.038399074922645555, -0.03839905443129683, -0.03839906693738943, -0.038399076074048875, -0.03839907323889183, -0.03839906142229436, -0.03839905356291582, -0.03839905895010505, -0.1274884599212065, -0.5056525761915323, -0.003119541139007189, -0.021356860966279815, -0.08527461022734378, -0.004719988079793295, -0.12700392802869923, -0.12676615321858292, -8.627923380984532e-05, -0.03738873868640986, 0.0]}, {\"name\": \"Cement floor in dining room\", \"type\": \"bar\", \"x\": [\"index\", \"Total Model 3\", \"C(dpisofirme)\", \"S_HHpeople\", \"S_headage\", \"S_spouseage\", \"S_headeduc\", \"S_spouseeduc\", \"S_dem1\", \"S_dem2\", \"S_dem3\", \"S_dem4\", \"S_dem5\", \"S_dem6\", \"S_dem7\", \"S_dem8\", \"C(S_waterland)\", \"C(S_waterhouse)\", \"C(S_electricity)\", \"C(S_hasanimals)\", \"C(S_animalsinside)\", \"C(S_garbage)\", \"S_washhands\", \"S_cashtransfers\", \"C(S_milkprogram)\", \"C(S_foodprogram)\", \"C(S_seguropopular)\"], \"y\": [\"Cement floor in dining room\", 0.12138185734946605, -1.1287614315874268, -0.0181619721667352, -0.009536403029418198, -0.020305293606084435, -0.15633807312435843, -6.172229084349533e-05, -0.009339730188640703, -0.009339722528122645, -0.009339730202218946, -0.009339727069002697, -0.00933972956135967, -0.009339724926153084, -0.00933972309267332, -0.009339733199517546, -0.053377862180350046, -0.4660361898738674, -1.538412877213536e-05, -0.027939694583101738, -0.004843394712902428, -0.0026383711994067706, -0.009656995809828, -0.11046951377552397, -0.004145177612158739, -0.07832037143745589, 0.0]}, {\"name\": \"Cement floor in bathroom\", \"type\": \"bar\", \"x\": [\"index\", \"Total Model 3\", \"C(dpisofirme)\", \"S_HHpeople\", \"S_headage\", \"S_spouseage\", \"S_headeduc\", \"S_spouseeduc\", \"S_dem1\", \"S_dem2\", \"S_dem3\", \"S_dem4\", \"S_dem5\", \"S_dem6\", \"S_dem7\", \"S_dem8\", \"C(S_waterland)\", \"C(S_waterhouse)\", \"C(S_electricity)\", \"C(S_hasanimals)\", \"C(S_animalsinside)\", \"C(S_garbage)\", \"S_washhands\", \"S_cashtransfers\", \"C(S_milkprogram)\", \"C(S_foodprogram)\", \"C(S_seguropopular)\"], \"y\": [\"Cement floor in bathroom\", 0.1039353095028146, -0.4088153518486362, -0.0009773211136452, -0.004413749304454668, -7.071707356136394e-05, -0.05105798030251542, -0.05953944612303757, -0.021705799322291174, -0.021705790708691414, -0.021705791573583415, -0.021705789182950137, -0.021705795070301123, -0.021705787237922377, -0.02170578010275696, -0.02170578340424236, -0.13912323698169898, -0.4089026310457633, -0.03710739701571419, -0.03952310871432914, -0.026061091752211326, -0.15431608447677714, -0.05379121060671865, -0.018822171739850402, -0.024121967200690705, -0.02623734188447127, 0.0]}, {\"name\": \"Cement floor in bedroom\", \"type\": \"bar\", \"x\": [\"index\", \"Total Model 3\", \"C(dpisofirme)\", \"S_HHpeople\", \"S_headage\", \"S_spouseage\", \"S_headeduc\", \"S_spouseeduc\", \"S_dem1\", \"S_dem2\", \"S_dem3\", \"S_dem4\", \"S_dem5\", \"S_dem6\", \"S_dem7\", \"S_dem8\", \"C(S_waterland)\", \"C(S_waterhouse)\", \"C(S_electricity)\", \"C(S_hasanimals)\", \"C(S_animalsinside)\", \"C(S_garbage)\", \"S_washhands\", \"S_cashtransfers\", \"C(S_milkprogram)\", \"C(S_foodprogram)\", \"C(S_seguropopular)\"], \"y\": [\"Cement floor in bedroom\", 0.12802809616239896, -1.2901372949051844, -0.21215995880840197, -0.015934761933485305, -0.03675814920953397, -0.15358042812616385, -0.007316017888869788, -0.03796194899513523, -0.0379619274928271, -0.03796196064431353, -0.03796196084076797, -0.03796194968839761, -0.03796194195300262, -0.037961930581546906, -0.037961927905974004, -0.13028176314830522, -0.16705720097841267, -0.005184295951204907, -0.003947610270046978, -0.06871300477358731, -0.001242037608236939, -0.004750560469744833, -0.002196619552379562, -0.0029169979447401426, -0.000230521443367717, 0.0]}],                        {\"autosize\": true, \"height\": 700, \"template\": {\"data\": {\"bar\": [{\"error_x\": {\"color\": \"#2a3f5f\"}, \"error_y\": {\"color\": \"#2a3f5f\"}, \"marker\": {\"line\": {\"color\": \"#E5ECF6\", \"width\": 0.5}}, \"type\": \"bar\"}], \"barpolar\": [{\"marker\": {\"line\": {\"color\": \"#E5ECF6\", \"width\": 0.5}}, \"type\": \"barpolar\"}], \"carpet\": [{\"aaxis\": {\"endlinecolor\": \"#2a3f5f\", \"gridcolor\": \"white\", \"linecolor\": \"white\", \"minorgridcolor\": \"white\", \"startlinecolor\": \"#2a3f5f\"}, \"baxis\": {\"endlinecolor\": \"#2a3f5f\", \"gridcolor\": \"white\", \"linecolor\": \"white\", \"minorgridcolor\": \"white\", \"startlinecolor\": \"#2a3f5f\"}, \"type\": \"carpet\"}], \"choropleth\": [{\"colorbar\": {\"outlinewidth\": 0, \"ticks\": \"\"}, \"type\": \"choropleth\"}], \"contour\": [{\"colorbar\": {\"outlinewidth\": 0, \"ticks\": \"\"}, \"colorscale\": [[0.0, \"#0d0887\"], [0.1111111111111111, \"#46039f\"], [0.2222222222222222, \"#7201a8\"], [0.3333333333333333, \"#9c179e\"], [0.4444444444444444, \"#bd3786\"], [0.5555555555555556, \"#d8576b\"], [0.6666666666666666, \"#ed7953\"], [0.7777777777777778, \"#fb9f3a\"], [0.8888888888888888, \"#fdca26\"], [1.0, \"#f0f921\"]], \"type\": \"contour\"}], \"contourcarpet\": [{\"colorbar\": {\"outlinewidth\": 0, \"ticks\": \"\"}, \"type\": \"contourcarpet\"}], \"heatmap\": [{\"colorbar\": {\"outlinewidth\": 0, \"ticks\": \"\"}, \"colorscale\": [[0.0, \"#0d0887\"], [0.1111111111111111, \"#46039f\"], [0.2222222222222222, \"#7201a8\"], [0.3333333333333333, \"#9c179e\"], [0.4444444444444444, \"#bd3786\"], [0.5555555555555556, \"#d8576b\"], [0.6666666666666666, \"#ed7953\"], [0.7777777777777778, \"#fb9f3a\"], [0.8888888888888888, \"#fdca26\"], [1.0, \"#f0f921\"]], \"type\": \"heatmap\"}], \"heatmapgl\": [{\"colorbar\": {\"outlinewidth\": 0, \"ticks\": \"\"}, \"colorscale\": [[0.0, \"#0d0887\"], [0.1111111111111111, \"#46039f\"], [0.2222222222222222, \"#7201a8\"], [0.3333333333333333, \"#9c179e\"], [0.4444444444444444, \"#bd3786\"], [0.5555555555555556, \"#d8576b\"], [0.6666666666666666, \"#ed7953\"], [0.7777777777777778, \"#fb9f3a\"], [0.8888888888888888, \"#fdca26\"], [1.0, \"#f0f921\"]], \"type\": \"heatmapgl\"}], \"histogram\": [{\"marker\": {\"colorbar\": {\"outlinewidth\": 0, \"ticks\": \"\"}}, \"type\": \"histogram\"}], \"histogram2d\": [{\"colorbar\": {\"outlinewidth\": 0, \"ticks\": \"\"}, \"colorscale\": [[0.0, \"#0d0887\"], [0.1111111111111111, \"#46039f\"], [0.2222222222222222, \"#7201a8\"], [0.3333333333333333, \"#9c179e\"], [0.4444444444444444, \"#bd3786\"], [0.5555555555555556, \"#d8576b\"], [0.6666666666666666, \"#ed7953\"], [0.7777777777777778, \"#fb9f3a\"], [0.8888888888888888, \"#fdca26\"], [1.0, \"#f0f921\"]], \"type\": \"histogram2d\"}], \"histogram2dcontour\": [{\"colorbar\": {\"outlinewidth\": 0, \"ticks\": \"\"}, \"colorscale\": [[0.0, \"#0d0887\"], [0.1111111111111111, \"#46039f\"], [0.2222222222222222, \"#7201a8\"], [0.3333333333333333, \"#9c179e\"], [0.4444444444444444, \"#bd3786\"], [0.5555555555555556, \"#d8576b\"], [0.6666666666666666, \"#ed7953\"], [0.7777777777777778, \"#fb9f3a\"], [0.8888888888888888, \"#fdca26\"], [1.0, \"#f0f921\"]], \"type\": \"histogram2dcontour\"}], \"mesh3d\": [{\"colorbar\": {\"outlinewidth\": 0, \"ticks\": \"\"}, \"type\": \"mesh3d\"}], \"parcoords\": [{\"line\": {\"colorbar\": {\"outlinewidth\": 0, \"ticks\": \"\"}}, \"type\": \"parcoords\"}], \"pie\": [{\"automargin\": true, \"type\": \"pie\"}], \"scatter\": [{\"marker\": {\"colorbar\": {\"outlinewidth\": 0, \"ticks\": \"\"}}, \"type\": \"scatter\"}], \"scatter3d\": [{\"line\": {\"colorbar\": {\"outlinewidth\": 0, \"ticks\": \"\"}}, \"marker\": {\"colorbar\": {\"outlinewidth\": 0, \"ticks\": \"\"}}, \"type\": \"scatter3d\"}], \"scattercarpet\": [{\"marker\": {\"colorbar\": {\"outlinewidth\": 0, \"ticks\": \"\"}}, \"type\": \"scattercarpet\"}], \"scattergeo\": [{\"marker\": {\"colorbar\": {\"outlinewidth\": 0, \"ticks\": \"\"}}, \"type\": \"scattergeo\"}], \"scattergl\": [{\"marker\": {\"colorbar\": {\"outlinewidth\": 0, \"ticks\": \"\"}}, \"type\": \"scattergl\"}], \"scattermapbox\": [{\"marker\": {\"colorbar\": {\"outlinewidth\": 0, \"ticks\": \"\"}}, \"type\": \"scattermapbox\"}], \"scatterpolar\": [{\"marker\": {\"colorbar\": {\"outlinewidth\": 0, \"ticks\": \"\"}}, \"type\": \"scatterpolar\"}], \"scatterpolargl\": [{\"marker\": {\"colorbar\": {\"outlinewidth\": 0, \"ticks\": \"\"}}, \"type\": \"scatterpolargl\"}], \"scatterternary\": [{\"marker\": {\"colorbar\": {\"outlinewidth\": 0, \"ticks\": \"\"}}, \"type\": \"scatterternary\"}], \"surface\": [{\"colorbar\": {\"outlinewidth\": 0, \"ticks\": \"\"}, \"colorscale\": [[0.0, \"#0d0887\"], [0.1111111111111111, \"#46039f\"], [0.2222222222222222, \"#7201a8\"], [0.3333333333333333, \"#9c179e\"], [0.4444444444444444, \"#bd3786\"], [0.5555555555555556, \"#d8576b\"], [0.6666666666666666, \"#ed7953\"], [0.7777777777777778, \"#fb9f3a\"], [0.8888888888888888, \"#fdca26\"], [1.0, \"#f0f921\"]], \"type\": \"surface\"}], \"table\": [{\"cells\": {\"fill\": {\"color\": \"#EBF0F8\"}, \"line\": {\"color\": \"white\"}}, \"header\": {\"fill\": {\"color\": \"#C8D4E3\"}, \"line\": {\"color\": \"white\"}}, \"type\": \"table\"}]}, \"layout\": {\"annotationdefaults\": {\"arrowcolor\": \"#2a3f5f\", \"arrowhead\": 0, \"arrowwidth\": 1}, \"coloraxis\": {\"colorbar\": {\"outlinewidth\": 0, \"ticks\": \"\"}}, \"colorscale\": {\"diverging\": [[0, \"#8e0152\"], [0.1, \"#c51b7d\"], [0.2, \"#de77ae\"], [0.3, \"#f1b6da\"], [0.4, \"#fde0ef\"], [0.5, \"#f7f7f7\"], [0.6, \"#e6f5d0\"], [0.7, \"#b8e186\"], [0.8, \"#7fbc41\"], [0.9, \"#4d9221\"], [1, \"#276419\"]], \"sequential\": [[0.0, \"#0d0887\"], [0.1111111111111111, \"#46039f\"], [0.2222222222222222, \"#7201a8\"], [0.3333333333333333, \"#9c179e\"], [0.4444444444444444, \"#bd3786\"], [0.5555555555555556, \"#d8576b\"], [0.6666666666666666, \"#ed7953\"], [0.7777777777777778, \"#fb9f3a\"], [0.8888888888888888, \"#fdca26\"], [1.0, \"#f0f921\"]], \"sequentialminus\": [[0.0, \"#0d0887\"], [0.1111111111111111, \"#46039f\"], [0.2222222222222222, \"#7201a8\"], [0.3333333333333333, \"#9c179e\"], [0.4444444444444444, \"#bd3786\"], [0.5555555555555556, \"#d8576b\"], [0.6666666666666666, \"#ed7953\"], [0.7777777777777778, \"#fb9f3a\"], [0.8888888888888888, \"#fdca26\"], [1.0, \"#f0f921\"]]}, \"colorway\": [\"#636efa\", \"#EF553B\", \"#00cc96\", \"#ab63fa\", \"#FFA15A\", \"#19d3f3\", \"#FF6692\", \"#B6E880\", \"#FF97FF\", \"#FECB52\"], \"font\": {\"color\": \"#2a3f5f\"}, \"geo\": {\"bgcolor\": \"white\", \"lakecolor\": \"white\", \"landcolor\": \"#E5ECF6\", \"showlakes\": true, \"showland\": true, \"subunitcolor\": \"white\"}, \"hoverlabel\": {\"align\": \"left\"}, \"hovermode\": \"closest\", \"mapbox\": {\"style\": \"light\"}, \"paper_bgcolor\": \"white\", \"plot_bgcolor\": \"#E5ECF6\", \"polar\": {\"angularaxis\": {\"gridcolor\": \"white\", \"linecolor\": \"white\", \"ticks\": \"\"}, \"bgcolor\": \"#E5ECF6\", \"radialaxis\": {\"gridcolor\": \"white\", \"linecolor\": \"white\", \"ticks\": \"\"}}, \"scene\": {\"xaxis\": {\"backgroundcolor\": \"#E5ECF6\", \"gridcolor\": \"white\", \"gridwidth\": 2, \"linecolor\": \"white\", \"showbackground\": true, \"ticks\": \"\", \"zerolinecolor\": \"white\"}, \"yaxis\": {\"backgroundcolor\": \"#E5ECF6\", \"gridcolor\": \"white\", \"gridwidth\": 2, \"linecolor\": \"white\", \"showbackground\": true, \"ticks\": \"\", \"zerolinecolor\": \"white\"}, \"zaxis\": {\"backgroundcolor\": \"#E5ECF6\", \"gridcolor\": \"white\", \"gridwidth\": 2, \"linecolor\": \"white\", \"showbackground\": true, \"ticks\": \"\", \"zerolinecolor\": \"white\"}}, \"shapedefaults\": {\"line\": {\"color\": \"#2a3f5f\"}}, \"ternary\": {\"aaxis\": {\"gridcolor\": \"white\", \"linecolor\": \"white\", \"ticks\": \"\"}, \"baxis\": {\"gridcolor\": \"white\", \"linecolor\": \"white\", \"ticks\": \"\"}, \"bgcolor\": \"#E5ECF6\", \"caxis\": {\"gridcolor\": \"white\", \"linecolor\": \"white\", \"ticks\": \"\"}}, \"title\": {\"x\": 0.05}, \"xaxis\": {\"automargin\": true, \"gridcolor\": \"white\", \"linecolor\": \"white\", \"ticks\": \"\", \"title\": {\"standoff\": 15}, \"zerolinecolor\": \"white\", \"zerolinewidth\": 2}, \"yaxis\": {\"automargin\": true, \"gridcolor\": \"white\", \"linecolor\": \"white\", \"ticks\": \"\", \"title\": {\"standoff\": 15}, \"zerolinecolor\": \"white\", \"zerolinewidth\": 2}}}, \"title\": {\"text\": \"$R^2$ bias\"}, \"width\": 1000, \"xaxis\": {\"tickangle\": 45, \"title\": {\"text\": \"Regressors\"}}, \"yaxis\": {\"title\": {\"text\": \"$R^2$ values\"}}},                        {\"responsive\": true}                    ).then(function(){\n",
       "                            \n",
       "var gd = document.getElementById('2fd0617b-9f53-4698-a3de-068a769c8b6a');\n",
       "var x = new MutationObserver(function (mutations, observer) {{\n",
       "        var display = window.getComputedStyle(gd).display;\n",
       "        if (!display || display === 'none') {{\n",
       "            console.log([gd, 'removed!']);\n",
       "            Plotly.purge(gd);\n",
       "            observer.disconnect();\n",
       "        }}\n",
       "}});\n",
       "\n",
       "// Listen for the removal of the full notebook cells\n",
       "var notebookContainer = gd.closest('#notebook-container');\n",
       "if (notebookContainer) {{\n",
       "    x.observe(notebookContainer, {childList: true});\n",
       "}}\n",
       "\n",
       "// Listen for the clearing of the current output cell\n",
       "var outputEl = gd.closest('.output');\n",
       "if (outputEl) {{\n",
       "    x.observe(outputEl, {childList: true});\n",
       "}}\n",
       "\n",
       "                        })                };                });            </script>        </div>"
      ]
     },
     "metadata": {},
     "output_type": "display_data"
    }
   ],
   "source": [
    "from plotly import graph_objs as go\n",
    "\n",
    "variables = R2_df['index']\n",
    "counter=0;\n",
    "\n",
    "fig = go.Figure()\n",
    "\n",
    "for vb in variables:\n",
    "    \n",
    "    trace = go.Bar(x=R2_df.columns, y=R2_df.iloc[counter], name=vb)\n",
    "    \n",
    "    fig.add_trace(trace)\n",
    "    \n",
    "    counter=counter+1\n",
    "\n",
    "fig.update_layout(\n",
    "    {'title_text': '$R^2$ bias',\n",
    "        'xaxis': dict(title='Regressors', tickangle=45),\n",
    "        'yaxis_title_text': '$R^2$ values',\n",
    "        \"width\": 1000, \"height\": 700,\n",
    "        \"autosize\": True})\n",
    "fig.show()"
   ]
  },
  {
   "cell_type": "markdown",
   "metadata": {},
   "source": [
    "### IV. Propensity score matching\n",
    "> To remedy the matching issues, one can use the propensity score in order to match treatment and control groups."
   ]
  },
  {
   "cell_type": "code",
   "execution_count": 54,
   "metadata": {},
   "outputs": [],
   "source": [
    "### Defining the formulas for the regression models (LHS and RHS)\n",
    "\n",
    "# LHS represents the 5 studied variables\n",
    "\n",
    "mod_formula_lhs = ['S_shcementfloor', 'S_cementfloorkit', 'S_cementfloordin', 'S_cementfloorbat', 'S_cementfloorbed']\n",
    "\n",
    "# RHS represents the control variables for the 3 models\n",
    "  # Model 1: no controls\n",
    "  # Model 2: age, demographic, health habits controls\n",
    "  # Model 3: age, demographic, health habits, and public social programs controls\n",
    "\n",
    "mod_formula_rhs = ['C(dpisofirme)', 'C(dpisofirme) + S_HHpeople + S_headage + S_spouseage + \\\n",
    "                     S_headeduc + S_spouseeduc + S_dem1 + S_dem2 + S_dem3 + S_dem4 + S_dem5 + S_dem6 + S_dem7 \\\n",
    "                     + S_dem8 + C(S_waterland) + C(S_waterhouse) + C(S_electricity) + C(S_hasanimals) + \\\n",
    "                     C(S_animalsinside) + C(S_garbage) + S_washhands', 'C(dpisofirme) + S_HHpeople + S_headage + S_spouseage + \\\n",
    "                     S_headeduc + S_spouseeduc + S_dem1 + S_dem2 + S_dem3 + S_dem4 + S_dem5 + S_dem6 + S_dem7 \\\n",
    "                     + S_dem8 + C(S_waterland) + C(S_waterhouse) + C(S_electricity) + C(S_hasanimals) + \\\n",
    "                     C(S_animalsinside) + C(S_garbage) + S_washhands + S_cashtransfers + C(S_milkprogram) +\\\n",
    "                     C(S_foodprogram) + C(S_seguropopular)'] \n",
    "\n",
    "# N.B. : the variable S_rooms is not included (number of rooms in the house), as it was not included in the Stata code\n",
    "# provided. The variable is said to be used in the Models 2 and 3 in the paper, but the regressions yield better results\n",
    "# in terms of replication when it is not included. "
   ]
  },
  {
   "cell_type": "code",
   "execution_count": 55,
   "metadata": {},
   "outputs": [],
   "source": [
    "### Declare Model\n",
    "\n",
    "mod = smf.ols(formula = mod_formula_lhs[1] + ' ~ ' + mod_formula_rhs[1], data=household_data)\n",
    "\n",
    "### Fit Model\n",
    "\n",
    "np.random.seed(2)\n",
    "res = mod.fit()\n",
    "\n",
    "### Propensity score\n",
    "\n",
    "household_data['Propensity_score'] = res.predict()   "
   ]
  }
 ],
 "metadata": {
  "kernelspec": {
   "display_name": "Python 3",
   "language": "python",
   "name": "python3"
  },
  "language_info": {
   "codemirror_mode": {
    "name": "ipython",
    "version": 3
   },
   "file_extension": ".py",
   "mimetype": "text/x-python",
   "name": "python",
   "nbconvert_exporter": "python",
   "pygments_lexer": "ipython3",
   "version": "3.7.6"
  }
 },
 "nbformat": 4,
 "nbformat_minor": 4
}
